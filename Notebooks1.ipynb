{
  "nbformat": 4,
  "nbformat_minor": 0,
  "metadata": {
    "colab": {
      "name": "Notebooks1.ipynb",
      "provenance": [],
      "collapsed_sections": [],
      "authorship_tag": "ABX9TyO1aNjmmqGX26aTRhWwdJNt",
      "include_colab_link": true
    },
    "kernelspec": {
      "name": "python3",
      "display_name": "Python 3"
    },
    "language_info": {
      "name": "python"
    }
  },
  "cells": [
    {
      "cell_type": "markdown",
      "metadata": {
        "id": "view-in-github",
        "colab_type": "text"
      },
      "source": [
        "<a href=\"https://colab.research.google.com/github/Leo-Kasper/is310-final-project-leo-kasper/blob/main/Notebooks1.ipynb\" target=\"_parent\"><img src=\"https://colab.research.google.com/assets/colab-badge.svg\" alt=\"Open In Colab\"/></a>"
      ]
    },
    {
      "cell_type": "code",
      "execution_count": 15,
      "metadata": {
        "id": "VC26Vf0j7Hk_"
      },
      "outputs": [],
      "source": [
        "from bs4 import BeautifulSoup\n",
        "import pandas as pd\n",
        "import requests"
      ]
    },
    {
      "cell_type": "code",
      "source": [
        "def scrape_webpage(url):\n",
        "    response = requests.get(url)\n",
        "    html_string = response.text\n",
        "    return html_string"
      ],
      "metadata": {
        "id": "adGBfO1n7izm"
      },
      "execution_count": 2,
      "outputs": []
    },
    {
      "cell_type": "code",
      "source": [
        "content = scrape_webpage(\"https://humanist.kdl.kcl.ac.uk/Archives/Converted_Text/\")"
      ],
      "metadata": {
        "id": "peFVzZqw7jCj"
      },
      "execution_count": 3,
      "outputs": []
    },
    {
      "cell_type": "code",
      "source": [
        "soup = BeautifulSoup(content, \"html.parser\")\n",
        "links = soup.find_all('a')\n",
        "\n",
        "titles = []\n",
        "for link in links:\n",
        "    link = link.get('href')\n",
        "    titles.append(link)\n",
        "\n",
        "del titles[-1]\n",
        "del titles[0]\n",
        "\n",
        "urls = [i.replace('humanist','https://humanist.kdl.kcl.ac.uk/Archives/Converted_Text/humanist') for i in titles]\n"
      ],
      "metadata": {
        "id": "GM-jU2Ui756P"
      },
      "execution_count": 14,
      "outputs": []
    },
    {
      "cell_type": "code",
      "source": [
        "miso = soup.text.split()[6:-4]\n",
        "date = miso[1::4]\n",
        "time = miso[2::4]\n",
        "volumes = miso[3::4]\n",
        "miso"
      ],
      "metadata": {
        "colab": {
          "base_uri": "https://localhost:8080/"
        },
        "id": "vc8sn4TP7584",
        "outputId": "b1a9d4de-c1c0-44c0-908f-cd7b80e48383"
      },
      "execution_count": 16,
      "outputs": [
        {
          "output_type": "execute_result",
          "data": {
            "text/plain": [
              "['humanist.1987-1988.txt',\n",
              " '26-Oct-2018',\n",
              " '11:09',\n",
              " '2354980',\n",
              " 'humanist.1988-1989.txt',\n",
              " '26-Oct-2018',\n",
              " '11:09',\n",
              " '1535924',\n",
              " 'humanist.1989-1990.txt',\n",
              " '26-Oct-2018',\n",
              " '11:09',\n",
              " '4663437',\n",
              " 'humanist.1990-1991.txt',\n",
              " '26-Oct-2018',\n",
              " '11:09',\n",
              " '4973851',\n",
              " 'humanist.1991-1992.txt',\n",
              " '26-Oct-2018',\n",
              " '11:09',\n",
              " '3243062',\n",
              " 'humanist.1992-1993.txt',\n",
              " '26-Oct-2018',\n",
              " '11:09',\n",
              " '2934777',\n",
              " 'humanist.1993-1994.txt',\n",
              " '26-Oct-2018',\n",
              " '11:09',\n",
              " '2776195',\n",
              " 'humanist.1994-1995.txt',\n",
              " '26-Oct-2018',\n",
              " '11:09',\n",
              " '1739016',\n",
              " 'humanist.1995-1996.txt',\n",
              " '26-Oct-2018',\n",
              " '11:09',\n",
              " '2494851',\n",
              " 'humanist.1996-1997.txt',\n",
              " '26-Oct-2018',\n",
              " '11:09',\n",
              " '2109480',\n",
              " 'humanist.1997-1998.txt',\n",
              " '26-Oct-2018',\n",
              " '11:09',\n",
              " '3678774',\n",
              " 'humanist.1998-1999.txt',\n",
              " '26-Oct-2018',\n",
              " '11:09',\n",
              " '2907550',\n",
              " 'humanist.1999-2000.txt',\n",
              " '26-Oct-2018',\n",
              " '11:09',\n",
              " '2652849',\n",
              " 'humanist.2000-2001.txt',\n",
              " '26-Oct-2018',\n",
              " '11:09',\n",
              " '3232307',\n",
              " 'humanist.2001-2002.txt',\n",
              " '26-Oct-2018',\n",
              " '11:09',\n",
              " '2634930',\n",
              " 'humanist.2002-2003.txt',\n",
              " '26-Oct-2018',\n",
              " '11:09',\n",
              " '2419876',\n",
              " 'humanist.2003-2004.txt',\n",
              " '26-Oct-2018',\n",
              " '11:09',\n",
              " '2834023',\n",
              " 'humanist.2004-2005.txt',\n",
              " '26-Oct-2018',\n",
              " '11:09',\n",
              " '2718227',\n",
              " 'humanist.2005-2006.txt',\n",
              " '26-Oct-2018',\n",
              " '11:09',\n",
              " '2665694',\n",
              " 'humanist.2006-2007.txt',\n",
              " '26-Oct-2018',\n",
              " '11:09',\n",
              " '2238595',\n",
              " 'humanist.2007-2008.txt',\n",
              " '26-Oct-2018',\n",
              " '11:09',\n",
              " '1868483']"
            ]
          },
          "metadata": {},
          "execution_count": 16
        }
      ]
    },
    {
      "cell_type": "code",
      "source": [
        "text_list = []\n",
        "for i in range(len(titles)):\n",
        "    dfdict = {'Title':titles[i], 'URL':urls[i],\n",
        "                    'Date':date[i], 'Time':time[i], 'Volume':volumes[i]}\n",
        "    text_list.append(dfdict)\n",
        "text_list"
      ],
      "metadata": {
        "colab": {
          "base_uri": "https://localhost:8080/"
        },
        "id": "zDz1XLEzBfJQ",
        "outputId": "4f2231e5-f22e-438f-b785-2ebeb46a208f"
      },
      "execution_count": 25,
      "outputs": [
        {
          "output_type": "execute_result",
          "data": {
            "text/plain": [
              "[{'Date': '26-Oct-2018',\n",
              "  'Time': '11:09',\n",
              "  'Title': 'humanist.1987-1988.txt',\n",
              "  'URL': 'https://humanist.kdl.kcl.ac.uk/Archives/Converted_Text/humanist.1987-1988.txt',\n",
              "  'Volume': '2354980'},\n",
              " {'Date': '26-Oct-2018',\n",
              "  'Time': '11:09',\n",
              "  'Title': 'humanist.1988-1989.txt',\n",
              "  'URL': 'https://humanist.kdl.kcl.ac.uk/Archives/Converted_Text/humanist.1988-1989.txt',\n",
              "  'Volume': '1535924'},\n",
              " {'Date': '26-Oct-2018',\n",
              "  'Time': '11:09',\n",
              "  'Title': 'humanist.1989-1990.txt',\n",
              "  'URL': 'https://humanist.kdl.kcl.ac.uk/Archives/Converted_Text/humanist.1989-1990.txt',\n",
              "  'Volume': '4663437'},\n",
              " {'Date': '26-Oct-2018',\n",
              "  'Time': '11:09',\n",
              "  'Title': 'humanist.1990-1991.txt',\n",
              "  'URL': 'https://humanist.kdl.kcl.ac.uk/Archives/Converted_Text/humanist.1990-1991.txt',\n",
              "  'Volume': '4973851'},\n",
              " {'Date': '26-Oct-2018',\n",
              "  'Time': '11:09',\n",
              "  'Title': 'humanist.1991-1992.txt',\n",
              "  'URL': 'https://humanist.kdl.kcl.ac.uk/Archives/Converted_Text/humanist.1991-1992.txt',\n",
              "  'Volume': '3243062'},\n",
              " {'Date': '26-Oct-2018',\n",
              "  'Time': '11:09',\n",
              "  'Title': 'humanist.1992-1993.txt',\n",
              "  'URL': 'https://humanist.kdl.kcl.ac.uk/Archives/Converted_Text/humanist.1992-1993.txt',\n",
              "  'Volume': '2934777'},\n",
              " {'Date': '26-Oct-2018',\n",
              "  'Time': '11:09',\n",
              "  'Title': 'humanist.1993-1994.txt',\n",
              "  'URL': 'https://humanist.kdl.kcl.ac.uk/Archives/Converted_Text/humanist.1993-1994.txt',\n",
              "  'Volume': '2776195'},\n",
              " {'Date': '26-Oct-2018',\n",
              "  'Time': '11:09',\n",
              "  'Title': 'humanist.1994-1995.txt',\n",
              "  'URL': 'https://humanist.kdl.kcl.ac.uk/Archives/Converted_Text/humanist.1994-1995.txt',\n",
              "  'Volume': '1739016'},\n",
              " {'Date': '26-Oct-2018',\n",
              "  'Time': '11:09',\n",
              "  'Title': 'humanist.1995-1996.txt',\n",
              "  'URL': 'https://humanist.kdl.kcl.ac.uk/Archives/Converted_Text/humanist.1995-1996.txt',\n",
              "  'Volume': '2494851'},\n",
              " {'Date': '26-Oct-2018',\n",
              "  'Time': '11:09',\n",
              "  'Title': 'humanist.1996-1997.txt',\n",
              "  'URL': 'https://humanist.kdl.kcl.ac.uk/Archives/Converted_Text/humanist.1996-1997.txt',\n",
              "  'Volume': '2109480'},\n",
              " {'Date': '26-Oct-2018',\n",
              "  'Time': '11:09',\n",
              "  'Title': 'humanist.1997-1998.txt',\n",
              "  'URL': 'https://humanist.kdl.kcl.ac.uk/Archives/Converted_Text/humanist.1997-1998.txt',\n",
              "  'Volume': '3678774'},\n",
              " {'Date': '26-Oct-2018',\n",
              "  'Time': '11:09',\n",
              "  'Title': 'humanist.1998-1999.txt',\n",
              "  'URL': 'https://humanist.kdl.kcl.ac.uk/Archives/Converted_Text/humanist.1998-1999.txt',\n",
              "  'Volume': '2907550'},\n",
              " {'Date': '26-Oct-2018',\n",
              "  'Time': '11:09',\n",
              "  'Title': 'humanist.1999-2000.txt',\n",
              "  'URL': 'https://humanist.kdl.kcl.ac.uk/Archives/Converted_Text/humanist.1999-2000.txt',\n",
              "  'Volume': '2652849'},\n",
              " {'Date': '26-Oct-2018',\n",
              "  'Time': '11:09',\n",
              "  'Title': 'humanist.2000-2001.txt',\n",
              "  'URL': 'https://humanist.kdl.kcl.ac.uk/Archives/Converted_Text/humanist.2000-2001.txt',\n",
              "  'Volume': '3232307'},\n",
              " {'Date': '26-Oct-2018',\n",
              "  'Time': '11:09',\n",
              "  'Title': 'humanist.2001-2002.txt',\n",
              "  'URL': 'https://humanist.kdl.kcl.ac.uk/Archives/Converted_Text/humanist.2001-2002.txt',\n",
              "  'Volume': '2634930'},\n",
              " {'Date': '26-Oct-2018',\n",
              "  'Time': '11:09',\n",
              "  'Title': 'humanist.2002-2003.txt',\n",
              "  'URL': 'https://humanist.kdl.kcl.ac.uk/Archives/Converted_Text/humanist.2002-2003.txt',\n",
              "  'Volume': '2419876'},\n",
              " {'Date': '26-Oct-2018',\n",
              "  'Time': '11:09',\n",
              "  'Title': 'humanist.2003-2004.txt',\n",
              "  'URL': 'https://humanist.kdl.kcl.ac.uk/Archives/Converted_Text/humanist.2003-2004.txt',\n",
              "  'Volume': '2834023'},\n",
              " {'Date': '26-Oct-2018',\n",
              "  'Time': '11:09',\n",
              "  'Title': 'humanist.2004-2005.txt',\n",
              "  'URL': 'https://humanist.kdl.kcl.ac.uk/Archives/Converted_Text/humanist.2004-2005.txt',\n",
              "  'Volume': '2718227'},\n",
              " {'Date': '26-Oct-2018',\n",
              "  'Time': '11:09',\n",
              "  'Title': 'humanist.2005-2006.txt',\n",
              "  'URL': 'https://humanist.kdl.kcl.ac.uk/Archives/Converted_Text/humanist.2005-2006.txt',\n",
              "  'Volume': '2665694'},\n",
              " {'Date': '26-Oct-2018',\n",
              "  'Time': '11:09',\n",
              "  'Title': 'humanist.2006-2007.txt',\n",
              "  'URL': 'https://humanist.kdl.kcl.ac.uk/Archives/Converted_Text/humanist.2006-2007.txt',\n",
              "  'Volume': '2238595'},\n",
              " {'Date': '26-Oct-2018',\n",
              "  'Time': '11:09',\n",
              "  'Title': 'humanist.2007-2008.txt',\n",
              "  'URL': 'https://humanist.kdl.kcl.ac.uk/Archives/Converted_Text/humanist.2007-2008.txt',\n",
              "  'Volume': '1868483'}]"
            ]
          },
          "metadata": {},
          "execution_count": 25
        }
      ]
    },
    {
      "cell_type": "code",
      "source": [
        "df = pd.DataFrame.from_dict(text_list, orient='columns')\n",
        "df = df[['Title','URL','Date','Time','Volume']]\n",
        "df.to_csv('humanist_listserv.csv')"
      ],
      "metadata": {
        "id": "U649yBbeBzIW"
      },
      "execution_count": 24,
      "outputs": []
    },
    {
      "cell_type": "code",
      "source": [
        ""
      ],
      "metadata": {
        "id": "sLE7smbOBzMw"
      },
      "execution_count": null,
      "outputs": []
    }
  ]
}