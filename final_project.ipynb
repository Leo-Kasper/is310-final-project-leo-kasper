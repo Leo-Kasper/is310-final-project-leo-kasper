{
  "nbformat": 4,
  "nbformat_minor": 0,
  "metadata": {
    "colab": {
      "name": "final_project.ipynb",
      "provenance": [],
      "collapsed_sections": [],
      "authorship_tag": "ABX9TyMrDUcNy9/HkRKAjcxeaM/o",
      "include_colab_link": true
    },
    "kernelspec": {
      "name": "python3",
      "display_name": "Python 3"
    },
    "language_info": {
      "name": "python"
    }
  },
  "cells": [
    {
      "cell_type": "markdown",
      "metadata": {
        "id": "view-in-github",
        "colab_type": "text"
      },
      "source": [
        "<a href=\"https://colab.research.google.com/github/Leo-Kasper/is310-final-project-leo-kasper/blob/main/final_project.ipynb\" target=\"_parent\"><img src=\"https://colab.research.google.com/assets/colab-badge.svg\" alt=\"Open In Colab\"/></a>"
      ]
    },
    {
      "cell_type": "code",
      "execution_count": 1,
      "metadata": {
        "colab": {
          "base_uri": "https://localhost:8080/"
        },
        "id": "CKvX-Og3P6cN",
        "outputId": "1c2b3c72-9122-4ac6-eaae-3f71b9026128"
      },
      "outputs": [
        {
          "output_type": "stream",
          "name": "stdout",
          "text": [
            "[nltk_data] Downloading package punkt to /root/nltk_data...\n",
            "[nltk_data]   Unzipping tokenizers/punkt.zip.\n",
            "[nltk_data] Downloading package stopwords to /root/nltk_data...\n",
            "[nltk_data]   Unzipping corpora/stopwords.zip.\n"
          ]
        },
        {
          "output_type": "stream",
          "name": "stderr",
          "text": [
            "/usr/local/lib/python3.7/dist-packages/nltk/twitter/__init__.py:20: UserWarning: The twython library has not been installed. Some functionality from the twitter package will not be available.\n",
            "  warnings.warn(\"The twython library has not been installed. \"\n"
          ]
        }
      ],
      "source": [
        "import pandas as pd\n",
        "import numpy\n",
        "import nltk\n",
        "nltk.download('punkt')\n",
        "from nltk import word_tokenize\n",
        "from nltk import FreqDist\n",
        "from nltk.stem import PorterStemmer\n",
        "nltk.download('stopwords')\n",
        "from nltk.corpus import stopwords\n",
        "stop_words = set(stopwords.words('english'))\n",
        "porter = PorterStemmer()\n",
        "from sklearn.feature_extraction.text import TfidfVectorizer\n",
        "from nltk.sentiment import SentimentIntensityAnalyzer"
      ]
    },
    {
      "cell_type": "code",
      "source": [
        "kazuya = pd.read_csv('kazuya.csv')\n",
        "bayo = pd.read_csv('bayo.csv')\n",
        "steve = pd.read_csv('steve.csv')"
      ],
      "metadata": {
        "colab": {
          "base_uri": "https://localhost:8080/"
        },
        "id": "K_-cUa3hQFIL",
        "outputId": "f1b2aa4a-a789-4f71-b2df-dcc0c3915218"
      },
      "execution_count": 2,
      "outputs": [
        {
          "output_type": "stream",
          "name": "stderr",
          "text": [
            "/usr/local/lib/python3.7/dist-packages/IPython/core/interactiveshell.py:2882: DtypeWarning: Columns (0,1,2,3,6,11,12,15,20,22) have mixed types.Specify dtype option on import or set low_memory=False.\n",
            "  exec(code_obj, self.user_global_ns, self.user_ns)\n"
          ]
        }
      ]
    },
    {
      "cell_type": "code",
      "source": [
        "kazuya.head()"
      ],
      "metadata": {
        "colab": {
          "base_uri": "https://localhost:8080/",
          "height": 803
        },
        "id": "HOZ_uYAdQFKx",
        "outputId": "7130992b-fc19-4cd4-f02a-518bd6c1b8b7"
      },
      "execution_count": 3,
      "outputs": [
        {
          "output_type": "execute_result",
          "data": {
            "text/plain": [
              "   Unnamed: 0                   id      conversation_id    created_at  \\\n",
              "0           0  1524102744340062212  1524102744340062212  1.652209e+12   \n",
              "1           1  1524043507299602434  1524043165199593472  1.652195e+12   \n",
              "2           4  1523913102965805058  1523913102965805058  1.652164e+12   \n",
              "3           6  1523849081449238528  1523849081449238528  1.652149e+12   \n",
              "4           7  1523847584355438594  1523847584355438594  1.652149e+12   \n",
              "\n",
              "                  date  timezone  place  \\\n",
              "0  2022-05-10 19:03:05         0    NaN   \n",
              "1  2022-05-10 15:07:42         0    NaN   \n",
              "2  2022-05-10 06:29:31         0    NaN   \n",
              "3  2022-05-10 02:15:07         0    NaN   \n",
              "4  2022-05-10 02:09:10         0    NaN   \n",
              "\n",
              "                                               tweet language hashtags  ...  \\\n",
              "0  Steve and Kazuya are the future of smash I do ...       en       []  ...   \n",
              "1  Speaking of, Smash Ultimate is so weird becaus...       en       []  ...   \n",
              "2  I'm just imagining how terrified Smash players...       en       []  ...   \n",
              "3  I like how some Smash tourneys will ban Steve ...       en       []  ...   \n",
              "4  I want to talk about Kazuya after playing non-...       en       []  ...   \n",
              "\n",
              "  geo  source  user_rt_id user_rt retweet_id  reply_to  retweet_date  \\\n",
              "0 NaN     NaN         NaN     NaN        NaN        []           NaN   \n",
              "1 NaN     NaN         NaN     NaN        NaN        []           NaN   \n",
              "2 NaN     NaN         NaN     NaN        NaN        []           NaN   \n",
              "3 NaN     NaN         NaN     NaN        NaN        []           NaN   \n",
              "4 NaN     NaN         NaN     NaN        NaN        []           NaN   \n",
              "\n",
              "  translate trans_src trans_dest  \n",
              "0       NaN       NaN        NaN  \n",
              "1       NaN       NaN        NaN  \n",
              "2       NaN       NaN        NaN  \n",
              "3       NaN       NaN        NaN  \n",
              "4       NaN       NaN        NaN  \n",
              "\n",
              "[5 rows x 39 columns]"
            ],
            "text/html": [
              "\n",
              "  <div id=\"df-a11ca012-0b02-48c9-8ed1-030b3a1f0e5f\">\n",
              "    <div class=\"colab-df-container\">\n",
              "      <div>\n",
              "<style scoped>\n",
              "    .dataframe tbody tr th:only-of-type {\n",
              "        vertical-align: middle;\n",
              "    }\n",
              "\n",
              "    .dataframe tbody tr th {\n",
              "        vertical-align: top;\n",
              "    }\n",
              "\n",
              "    .dataframe thead th {\n",
              "        text-align: right;\n",
              "    }\n",
              "</style>\n",
              "<table border=\"1\" class=\"dataframe\">\n",
              "  <thead>\n",
              "    <tr style=\"text-align: right;\">\n",
              "      <th></th>\n",
              "      <th>Unnamed: 0</th>\n",
              "      <th>id</th>\n",
              "      <th>conversation_id</th>\n",
              "      <th>created_at</th>\n",
              "      <th>date</th>\n",
              "      <th>timezone</th>\n",
              "      <th>place</th>\n",
              "      <th>tweet</th>\n",
              "      <th>language</th>\n",
              "      <th>hashtags</th>\n",
              "      <th>...</th>\n",
              "      <th>geo</th>\n",
              "      <th>source</th>\n",
              "      <th>user_rt_id</th>\n",
              "      <th>user_rt</th>\n",
              "      <th>retweet_id</th>\n",
              "      <th>reply_to</th>\n",
              "      <th>retweet_date</th>\n",
              "      <th>translate</th>\n",
              "      <th>trans_src</th>\n",
              "      <th>trans_dest</th>\n",
              "    </tr>\n",
              "  </thead>\n",
              "  <tbody>\n",
              "    <tr>\n",
              "      <th>0</th>\n",
              "      <td>0</td>\n",
              "      <td>1524102744340062212</td>\n",
              "      <td>1524102744340062212</td>\n",
              "      <td>1.652209e+12</td>\n",
              "      <td>2022-05-10 19:03:05</td>\n",
              "      <td>0</td>\n",
              "      <td>NaN</td>\n",
              "      <td>Steve and Kazuya are the future of smash I do ...</td>\n",
              "      <td>en</td>\n",
              "      <td>[]</td>\n",
              "      <td>...</td>\n",
              "      <td>NaN</td>\n",
              "      <td>NaN</td>\n",
              "      <td>NaN</td>\n",
              "      <td>NaN</td>\n",
              "      <td>NaN</td>\n",
              "      <td>[]</td>\n",
              "      <td>NaN</td>\n",
              "      <td>NaN</td>\n",
              "      <td>NaN</td>\n",
              "      <td>NaN</td>\n",
              "    </tr>\n",
              "    <tr>\n",
              "      <th>1</th>\n",
              "      <td>1</td>\n",
              "      <td>1524043507299602434</td>\n",
              "      <td>1524043165199593472</td>\n",
              "      <td>1.652195e+12</td>\n",
              "      <td>2022-05-10 15:07:42</td>\n",
              "      <td>0</td>\n",
              "      <td>NaN</td>\n",
              "      <td>Speaking of, Smash Ultimate is so weird becaus...</td>\n",
              "      <td>en</td>\n",
              "      <td>[]</td>\n",
              "      <td>...</td>\n",
              "      <td>NaN</td>\n",
              "      <td>NaN</td>\n",
              "      <td>NaN</td>\n",
              "      <td>NaN</td>\n",
              "      <td>NaN</td>\n",
              "      <td>[]</td>\n",
              "      <td>NaN</td>\n",
              "      <td>NaN</td>\n",
              "      <td>NaN</td>\n",
              "      <td>NaN</td>\n",
              "    </tr>\n",
              "    <tr>\n",
              "      <th>2</th>\n",
              "      <td>4</td>\n",
              "      <td>1523913102965805058</td>\n",
              "      <td>1523913102965805058</td>\n",
              "      <td>1.652164e+12</td>\n",
              "      <td>2022-05-10 06:29:31</td>\n",
              "      <td>0</td>\n",
              "      <td>NaN</td>\n",
              "      <td>I'm just imagining how terrified Smash players...</td>\n",
              "      <td>en</td>\n",
              "      <td>[]</td>\n",
              "      <td>...</td>\n",
              "      <td>NaN</td>\n",
              "      <td>NaN</td>\n",
              "      <td>NaN</td>\n",
              "      <td>NaN</td>\n",
              "      <td>NaN</td>\n",
              "      <td>[]</td>\n",
              "      <td>NaN</td>\n",
              "      <td>NaN</td>\n",
              "      <td>NaN</td>\n",
              "      <td>NaN</td>\n",
              "    </tr>\n",
              "    <tr>\n",
              "      <th>3</th>\n",
              "      <td>6</td>\n",
              "      <td>1523849081449238528</td>\n",
              "      <td>1523849081449238528</td>\n",
              "      <td>1.652149e+12</td>\n",
              "      <td>2022-05-10 02:15:07</td>\n",
              "      <td>0</td>\n",
              "      <td>NaN</td>\n",
              "      <td>I like how some Smash tourneys will ban Steve ...</td>\n",
              "      <td>en</td>\n",
              "      <td>[]</td>\n",
              "      <td>...</td>\n",
              "      <td>NaN</td>\n",
              "      <td>NaN</td>\n",
              "      <td>NaN</td>\n",
              "      <td>NaN</td>\n",
              "      <td>NaN</td>\n",
              "      <td>[]</td>\n",
              "      <td>NaN</td>\n",
              "      <td>NaN</td>\n",
              "      <td>NaN</td>\n",
              "      <td>NaN</td>\n",
              "    </tr>\n",
              "    <tr>\n",
              "      <th>4</th>\n",
              "      <td>7</td>\n",
              "      <td>1523847584355438594</td>\n",
              "      <td>1523847584355438594</td>\n",
              "      <td>1.652149e+12</td>\n",
              "      <td>2022-05-10 02:09:10</td>\n",
              "      <td>0</td>\n",
              "      <td>NaN</td>\n",
              "      <td>I want to talk about Kazuya after playing non-...</td>\n",
              "      <td>en</td>\n",
              "      <td>[]</td>\n",
              "      <td>...</td>\n",
              "      <td>NaN</td>\n",
              "      <td>NaN</td>\n",
              "      <td>NaN</td>\n",
              "      <td>NaN</td>\n",
              "      <td>NaN</td>\n",
              "      <td>[]</td>\n",
              "      <td>NaN</td>\n",
              "      <td>NaN</td>\n",
              "      <td>NaN</td>\n",
              "      <td>NaN</td>\n",
              "    </tr>\n",
              "  </tbody>\n",
              "</table>\n",
              "<p>5 rows × 39 columns</p>\n",
              "</div>\n",
              "      <button class=\"colab-df-convert\" onclick=\"convertToInteractive('df-a11ca012-0b02-48c9-8ed1-030b3a1f0e5f')\"\n",
              "              title=\"Convert this dataframe to an interactive table.\"\n",
              "              style=\"display:none;\">\n",
              "        \n",
              "  <svg xmlns=\"http://www.w3.org/2000/svg\" height=\"24px\"viewBox=\"0 0 24 24\"\n",
              "       width=\"24px\">\n",
              "    <path d=\"M0 0h24v24H0V0z\" fill=\"none\"/>\n",
              "    <path d=\"M18.56 5.44l.94 2.06.94-2.06 2.06-.94-2.06-.94-.94-2.06-.94 2.06-2.06.94zm-11 1L8.5 8.5l.94-2.06 2.06-.94-2.06-.94L8.5 2.5l-.94 2.06-2.06.94zm10 10l.94 2.06.94-2.06 2.06-.94-2.06-.94-.94-2.06-.94 2.06-2.06.94z\"/><path d=\"M17.41 7.96l-1.37-1.37c-.4-.4-.92-.59-1.43-.59-.52 0-1.04.2-1.43.59L10.3 9.45l-7.72 7.72c-.78.78-.78 2.05 0 2.83L4 21.41c.39.39.9.59 1.41.59.51 0 1.02-.2 1.41-.59l7.78-7.78 2.81-2.81c.8-.78.8-2.07 0-2.86zM5.41 20L4 18.59l7.72-7.72 1.47 1.35L5.41 20z\"/>\n",
              "  </svg>\n",
              "      </button>\n",
              "      \n",
              "  <style>\n",
              "    .colab-df-container {\n",
              "      display:flex;\n",
              "      flex-wrap:wrap;\n",
              "      gap: 12px;\n",
              "    }\n",
              "\n",
              "    .colab-df-convert {\n",
              "      background-color: #E8F0FE;\n",
              "      border: none;\n",
              "      border-radius: 50%;\n",
              "      cursor: pointer;\n",
              "      display: none;\n",
              "      fill: #1967D2;\n",
              "      height: 32px;\n",
              "      padding: 0 0 0 0;\n",
              "      width: 32px;\n",
              "    }\n",
              "\n",
              "    .colab-df-convert:hover {\n",
              "      background-color: #E2EBFA;\n",
              "      box-shadow: 0px 1px 2px rgba(60, 64, 67, 0.3), 0px 1px 3px 1px rgba(60, 64, 67, 0.15);\n",
              "      fill: #174EA6;\n",
              "    }\n",
              "\n",
              "    [theme=dark] .colab-df-convert {\n",
              "      background-color: #3B4455;\n",
              "      fill: #D2E3FC;\n",
              "    }\n",
              "\n",
              "    [theme=dark] .colab-df-convert:hover {\n",
              "      background-color: #434B5C;\n",
              "      box-shadow: 0px 1px 3px 1px rgba(0, 0, 0, 0.15);\n",
              "      filter: drop-shadow(0px 1px 2px rgba(0, 0, 0, 0.3));\n",
              "      fill: #FFFFFF;\n",
              "    }\n",
              "  </style>\n",
              "\n",
              "      <script>\n",
              "        const buttonEl =\n",
              "          document.querySelector('#df-a11ca012-0b02-48c9-8ed1-030b3a1f0e5f button.colab-df-convert');\n",
              "        buttonEl.style.display =\n",
              "          google.colab.kernel.accessAllowed ? 'block' : 'none';\n",
              "\n",
              "        async function convertToInteractive(key) {\n",
              "          const element = document.querySelector('#df-a11ca012-0b02-48c9-8ed1-030b3a1f0e5f');\n",
              "          const dataTable =\n",
              "            await google.colab.kernel.invokeFunction('convertToInteractive',\n",
              "                                                     [key], {});\n",
              "          if (!dataTable) return;\n",
              "\n",
              "          const docLinkHtml = 'Like what you see? Visit the ' +\n",
              "            '<a target=\"_blank\" href=https://colab.research.google.com/notebooks/data_table.ipynb>data table notebook</a>'\n",
              "            + ' to learn more about interactive tables.';\n",
              "          element.innerHTML = '';\n",
              "          dataTable['output_type'] = 'display_data';\n",
              "          await google.colab.output.renderOutput(dataTable, element);\n",
              "          const docLink = document.createElement('div');\n",
              "          docLink.innerHTML = docLinkHtml;\n",
              "          element.appendChild(docLink);\n",
              "        }\n",
              "      </script>\n",
              "    </div>\n",
              "  </div>\n",
              "  "
            ]
          },
          "metadata": {},
          "execution_count": 3
        }
      ]
    },
    {
      "cell_type": "code",
      "source": [
        "nltk.download('vader_lexicon')\n",
        "sia = SentimentIntensityAnalyzer()"
      ],
      "metadata": {
        "colab": {
          "base_uri": "https://localhost:8080/"
        },
        "id": "izB1VxzfQFNd",
        "outputId": "9a9c6cce-0bbf-482b-e77c-42c9578e83c3"
      },
      "execution_count": 4,
      "outputs": [
        {
          "output_type": "stream",
          "name": "stdout",
          "text": [
            "[nltk_data] Downloading package vader_lexicon to /root/nltk_data...\n"
          ]
        }
      ]
    },
    {
      "cell_type": "code",
      "source": [
        "# bayo_sentiment = 0.0\n",
        "\n",
        "# bayo[~bayo['tweet'].isnull()]\n",
        "\n",
        "# for tweet in bayo['tweet']:\n",
        "#   bayo_sentiment += sia.polarity_scores(tweet)[\"compound\"]\n",
        "\n",
        "# bayo_sentiment"
      ],
      "metadata": {
        "id": "078aP7uyTrcE"
      },
      "execution_count": 5,
      "outputs": []
    },
    {
      "cell_type": "code",
      "source": [
        "def stem_words(row):\n",
        "    stemmed_words = ''\n",
        "    for token in row.tweet.split(' '):\n",
        "        stemmed_words += porter.stem(token) + ' '\n",
        "    return stemmed_words"
      ],
      "metadata": {
        "id": "kyBK_8KfYGNu"
      },
      "execution_count": 6,
      "outputs": []
    },
    {
      "cell_type": "code",
      "source": [
        "bayo_clean = pd.DataFrame().assign(tweet=bayo['tweet'], username=bayo['username'])"
      ],
      "metadata": {
        "id": "oVp-yWTiUn70"
      },
      "execution_count": 7,
      "outputs": []
    },
    {
      "cell_type": "code",
      "source": [
        "kazuya_clean = pd.DataFrame().assign(tweet=kazuya['tweet'], username=kazuya['username'])"
      ],
      "metadata": {
        "id": "eqaAU-RBhYBu"
      },
      "execution_count": 8,
      "outputs": []
    },
    {
      "cell_type": "code",
      "source": [
        "steve_clean = pd.DataFrame().assign(tweet=steve['tweet'], username=steve['username'])"
      ],
      "metadata": {
        "id": "H6LhaMS3hsKC"
      },
      "execution_count": 9,
      "outputs": []
    },
    {
      "cell_type": "code",
      "source": [
        "bayo_clean.head()"
      ],
      "metadata": {
        "colab": {
          "base_uri": "https://localhost:8080/",
          "height": 206
        },
        "id": "32wLcW6Pe5Jy",
        "outputId": "d691cd14-9664-490e-d0ab-aa23ec4a32f5"
      },
      "execution_count": 10,
      "outputs": [
        {
          "output_type": "execute_result",
          "data": {
            "text/plain": [
              "                                               tweet       username\n",
              "0  @PowerFuck Dmc 5, smash ultimate uhh bayonetta...   Handler_Chan\n",
              "1  its so weird seeing non smash twitter talking ...    AceOfGaykes\n",
              "2  If there’s a Bayonetta 3, Smash or Metroid Pri...  FinalGrantasy\n",
              "3  @Actual_YTWaffle @geoffkeighley Well, you can ...   MATT_HAZARD_\n",
              "4  If I end up missing the Game Awards today, I t...  Light_Suit213"
            ],
            "text/html": [
              "\n",
              "  <div id=\"df-218f8c86-3d87-4305-9fd2-104b8fd7c317\">\n",
              "    <div class=\"colab-df-container\">\n",
              "      <div>\n",
              "<style scoped>\n",
              "    .dataframe tbody tr th:only-of-type {\n",
              "        vertical-align: middle;\n",
              "    }\n",
              "\n",
              "    .dataframe tbody tr th {\n",
              "        vertical-align: top;\n",
              "    }\n",
              "\n",
              "    .dataframe thead th {\n",
              "        text-align: right;\n",
              "    }\n",
              "</style>\n",
              "<table border=\"1\" class=\"dataframe\">\n",
              "  <thead>\n",
              "    <tr style=\"text-align: right;\">\n",
              "      <th></th>\n",
              "      <th>tweet</th>\n",
              "      <th>username</th>\n",
              "    </tr>\n",
              "  </thead>\n",
              "  <tbody>\n",
              "    <tr>\n",
              "      <th>0</th>\n",
              "      <td>@PowerFuck Dmc 5, smash ultimate uhh bayonetta...</td>\n",
              "      <td>Handler_Chan</td>\n",
              "    </tr>\n",
              "    <tr>\n",
              "      <th>1</th>\n",
              "      <td>its so weird seeing non smash twitter talking ...</td>\n",
              "      <td>AceOfGaykes</td>\n",
              "    </tr>\n",
              "    <tr>\n",
              "      <th>2</th>\n",
              "      <td>If there’s a Bayonetta 3, Smash or Metroid Pri...</td>\n",
              "      <td>FinalGrantasy</td>\n",
              "    </tr>\n",
              "    <tr>\n",
              "      <th>3</th>\n",
              "      <td>@Actual_YTWaffle @geoffkeighley Well, you can ...</td>\n",
              "      <td>MATT_HAZARD_</td>\n",
              "    </tr>\n",
              "    <tr>\n",
              "      <th>4</th>\n",
              "      <td>If I end up missing the Game Awards today, I t...</td>\n",
              "      <td>Light_Suit213</td>\n",
              "    </tr>\n",
              "  </tbody>\n",
              "</table>\n",
              "</div>\n",
              "      <button class=\"colab-df-convert\" onclick=\"convertToInteractive('df-218f8c86-3d87-4305-9fd2-104b8fd7c317')\"\n",
              "              title=\"Convert this dataframe to an interactive table.\"\n",
              "              style=\"display:none;\">\n",
              "        \n",
              "  <svg xmlns=\"http://www.w3.org/2000/svg\" height=\"24px\"viewBox=\"0 0 24 24\"\n",
              "       width=\"24px\">\n",
              "    <path d=\"M0 0h24v24H0V0z\" fill=\"none\"/>\n",
              "    <path d=\"M18.56 5.44l.94 2.06.94-2.06 2.06-.94-2.06-.94-.94-2.06-.94 2.06-2.06.94zm-11 1L8.5 8.5l.94-2.06 2.06-.94-2.06-.94L8.5 2.5l-.94 2.06-2.06.94zm10 10l.94 2.06.94-2.06 2.06-.94-2.06-.94-.94-2.06-.94 2.06-2.06.94z\"/><path d=\"M17.41 7.96l-1.37-1.37c-.4-.4-.92-.59-1.43-.59-.52 0-1.04.2-1.43.59L10.3 9.45l-7.72 7.72c-.78.78-.78 2.05 0 2.83L4 21.41c.39.39.9.59 1.41.59.51 0 1.02-.2 1.41-.59l7.78-7.78 2.81-2.81c.8-.78.8-2.07 0-2.86zM5.41 20L4 18.59l7.72-7.72 1.47 1.35L5.41 20z\"/>\n",
              "  </svg>\n",
              "      </button>\n",
              "      \n",
              "  <style>\n",
              "    .colab-df-container {\n",
              "      display:flex;\n",
              "      flex-wrap:wrap;\n",
              "      gap: 12px;\n",
              "    }\n",
              "\n",
              "    .colab-df-convert {\n",
              "      background-color: #E8F0FE;\n",
              "      border: none;\n",
              "      border-radius: 50%;\n",
              "      cursor: pointer;\n",
              "      display: none;\n",
              "      fill: #1967D2;\n",
              "      height: 32px;\n",
              "      padding: 0 0 0 0;\n",
              "      width: 32px;\n",
              "    }\n",
              "\n",
              "    .colab-df-convert:hover {\n",
              "      background-color: #E2EBFA;\n",
              "      box-shadow: 0px 1px 2px rgba(60, 64, 67, 0.3), 0px 1px 3px 1px rgba(60, 64, 67, 0.15);\n",
              "      fill: #174EA6;\n",
              "    }\n",
              "\n",
              "    [theme=dark] .colab-df-convert {\n",
              "      background-color: #3B4455;\n",
              "      fill: #D2E3FC;\n",
              "    }\n",
              "\n",
              "    [theme=dark] .colab-df-convert:hover {\n",
              "      background-color: #434B5C;\n",
              "      box-shadow: 0px 1px 3px 1px rgba(0, 0, 0, 0.15);\n",
              "      filter: drop-shadow(0px 1px 2px rgba(0, 0, 0, 0.3));\n",
              "      fill: #FFFFFF;\n",
              "    }\n",
              "  </style>\n",
              "\n",
              "      <script>\n",
              "        const buttonEl =\n",
              "          document.querySelector('#df-218f8c86-3d87-4305-9fd2-104b8fd7c317 button.colab-df-convert');\n",
              "        buttonEl.style.display =\n",
              "          google.colab.kernel.accessAllowed ? 'block' : 'none';\n",
              "\n",
              "        async function convertToInteractive(key) {\n",
              "          const element = document.querySelector('#df-218f8c86-3d87-4305-9fd2-104b8fd7c317');\n",
              "          const dataTable =\n",
              "            await google.colab.kernel.invokeFunction('convertToInteractive',\n",
              "                                                     [key], {});\n",
              "          if (!dataTable) return;\n",
              "\n",
              "          const docLinkHtml = 'Like what you see? Visit the ' +\n",
              "            '<a target=\"_blank\" href=https://colab.research.google.com/notebooks/data_table.ipynb>data table notebook</a>'\n",
              "            + ' to learn more about interactive tables.';\n",
              "          element.innerHTML = '';\n",
              "          dataTable['output_type'] = 'display_data';\n",
              "          await google.colab.output.renderOutput(dataTable, element);\n",
              "          const docLink = document.createElement('div');\n",
              "          docLink.innerHTML = docLinkHtml;\n",
              "          element.appendChild(docLink);\n",
              "        }\n",
              "      </script>\n",
              "    </div>\n",
              "  </div>\n",
              "  "
            ]
          },
          "metadata": {},
          "execution_count": 10
        }
      ]
    },
    {
      "cell_type": "code",
      "source": [
        "bayo_clean = bayo_clean[bayo_clean['tweet'].notnull()]\n",
        "bayo_clean['stemmed_text'] = bayo_clean.apply(stem_words,axis=1)"
      ],
      "metadata": {
        "id": "Rcx6koCJfA48"
      },
      "execution_count": 11,
      "outputs": []
    },
    {
      "cell_type": "code",
      "source": [
        "kazuya_clean = kazuya_clean[kazuya_clean['tweet'].notnull()]\n",
        "kazuya_clean['stemmed_text'] = kazuya_clean.apply(stem_words,axis=1)"
      ],
      "metadata": {
        "id": "tPszfnRHhfY_"
      },
      "execution_count": 12,
      "outputs": []
    },
    {
      "cell_type": "code",
      "source": [
        "steve_clean = steve_clean[steve_clean['tweet'].notnull()]\n",
        "steve_clean['stemmed_text'] = steve_clean.apply(stem_words,axis=1)"
      ],
      "metadata": {
        "id": "5gZ2tMtFhfbd"
      },
      "execution_count": 13,
      "outputs": []
    },
    {
      "cell_type": "code",
      "source": [
        "bayo_clean"
      ],
      "metadata": {
        "colab": {
          "base_uri": "https://localhost:8080/",
          "height": 423
        },
        "id": "AVB0OlHVgrpM",
        "outputId": "1c791295-87b3-4343-f475-12521dbac03d"
      },
      "execution_count": 14,
      "outputs": [
        {
          "output_type": "execute_result",
          "data": {
            "text/plain": [
              "                                                   tweet        username  \\\n",
              "0      @PowerFuck Dmc 5, smash ultimate uhh bayonetta...    Handler_Chan   \n",
              "1      its so weird seeing non smash twitter talking ...     AceOfGaykes   \n",
              "2      If there’s a Bayonetta 3, Smash or Metroid Pri...   FinalGrantasy   \n",
              "3      @Actual_YTWaffle @geoffkeighley Well, you can ...    MATT_HAZARD_   \n",
              "4      If I end up missing the Game Awards today, I t...   Light_Suit213   \n",
              "...                                                  ...             ...   \n",
              "26253  My mains #smash #sexyteam #zerosuitsamus #bayo...    AnarchyReira   \n",
              "26254  Bayonetta is coming to Smash Bros. tomorrow! #...      PetesuhPan   \n",
              "26255  @AppleOfClowns Bayonetta should release for Sm...          Avvvee   \n",
              "26256  I totally forgot that bayonetta comes out tomo...  MrTacoBelmonto   \n",
              "26257  Super Smash Bros: Corrin &amp; Bayonetta Relea...    Shuglegaming   \n",
              "\n",
              "                                            stemmed_text  \n",
              "0      @powerfuck dmc 5, smash ultim uhh bayonetta 3 ...  \n",
              "1      it so weird see non smash twitter talk about s...  \n",
              "2      If there’ a bayonetta 3, smash or metroid prim...  \n",
              "3      @actual_ytwaffl @geoffkeighley well, you can s...  \n",
              "4      If I end up miss the game award today, I think...  \n",
              "...                                                  ...  \n",
              "26253  My main #smash #sexyteam #zerosuitsamu #bayone...  \n",
              "26254  bayonetta is come to smash bros. tomorrow! #hype   \n",
              "26255  @appleofclown bayonetta should releas for smas...  \n",
              "26256  I total forgot that bayonetta come out tomorro...  \n",
              "26257  super smash bros: corrin &amp; bayonetta relea...  \n",
              "\n",
              "[26252 rows x 3 columns]"
            ],
            "text/html": [
              "\n",
              "  <div id=\"df-a12ab1eb-d1b5-4161-964c-e971668e28bd\">\n",
              "    <div class=\"colab-df-container\">\n",
              "      <div>\n",
              "<style scoped>\n",
              "    .dataframe tbody tr th:only-of-type {\n",
              "        vertical-align: middle;\n",
              "    }\n",
              "\n",
              "    .dataframe tbody tr th {\n",
              "        vertical-align: top;\n",
              "    }\n",
              "\n",
              "    .dataframe thead th {\n",
              "        text-align: right;\n",
              "    }\n",
              "</style>\n",
              "<table border=\"1\" class=\"dataframe\">\n",
              "  <thead>\n",
              "    <tr style=\"text-align: right;\">\n",
              "      <th></th>\n",
              "      <th>tweet</th>\n",
              "      <th>username</th>\n",
              "      <th>stemmed_text</th>\n",
              "    </tr>\n",
              "  </thead>\n",
              "  <tbody>\n",
              "    <tr>\n",
              "      <th>0</th>\n",
              "      <td>@PowerFuck Dmc 5, smash ultimate uhh bayonetta...</td>\n",
              "      <td>Handler_Chan</td>\n",
              "      <td>@powerfuck dmc 5, smash ultim uhh bayonetta 3 ...</td>\n",
              "    </tr>\n",
              "    <tr>\n",
              "      <th>1</th>\n",
              "      <td>its so weird seeing non smash twitter talking ...</td>\n",
              "      <td>AceOfGaykes</td>\n",
              "      <td>it so weird see non smash twitter talk about s...</td>\n",
              "    </tr>\n",
              "    <tr>\n",
              "      <th>2</th>\n",
              "      <td>If there’s a Bayonetta 3, Smash or Metroid Pri...</td>\n",
              "      <td>FinalGrantasy</td>\n",
              "      <td>If there’ a bayonetta 3, smash or metroid prim...</td>\n",
              "    </tr>\n",
              "    <tr>\n",
              "      <th>3</th>\n",
              "      <td>@Actual_YTWaffle @geoffkeighley Well, you can ...</td>\n",
              "      <td>MATT_HAZARD_</td>\n",
              "      <td>@actual_ytwaffl @geoffkeighley well, you can s...</td>\n",
              "    </tr>\n",
              "    <tr>\n",
              "      <th>4</th>\n",
              "      <td>If I end up missing the Game Awards today, I t...</td>\n",
              "      <td>Light_Suit213</td>\n",
              "      <td>If I end up miss the game award today, I think...</td>\n",
              "    </tr>\n",
              "    <tr>\n",
              "      <th>...</th>\n",
              "      <td>...</td>\n",
              "      <td>...</td>\n",
              "      <td>...</td>\n",
              "    </tr>\n",
              "    <tr>\n",
              "      <th>26253</th>\n",
              "      <td>My mains #smash #sexyteam #zerosuitsamus #bayo...</td>\n",
              "      <td>AnarchyReira</td>\n",
              "      <td>My main #smash #sexyteam #zerosuitsamu #bayone...</td>\n",
              "    </tr>\n",
              "    <tr>\n",
              "      <th>26254</th>\n",
              "      <td>Bayonetta is coming to Smash Bros. tomorrow! #...</td>\n",
              "      <td>PetesuhPan</td>\n",
              "      <td>bayonetta is come to smash bros. tomorrow! #hype</td>\n",
              "    </tr>\n",
              "    <tr>\n",
              "      <th>26255</th>\n",
              "      <td>@AppleOfClowns Bayonetta should release for Sm...</td>\n",
              "      <td>Avvvee</td>\n",
              "      <td>@appleofclown bayonetta should releas for smas...</td>\n",
              "    </tr>\n",
              "    <tr>\n",
              "      <th>26256</th>\n",
              "      <td>I totally forgot that bayonetta comes out tomo...</td>\n",
              "      <td>MrTacoBelmonto</td>\n",
              "      <td>I total forgot that bayonetta come out tomorro...</td>\n",
              "    </tr>\n",
              "    <tr>\n",
              "      <th>26257</th>\n",
              "      <td>Super Smash Bros: Corrin &amp;amp; Bayonetta Relea...</td>\n",
              "      <td>Shuglegaming</td>\n",
              "      <td>super smash bros: corrin &amp;amp; bayonetta relea...</td>\n",
              "    </tr>\n",
              "  </tbody>\n",
              "</table>\n",
              "<p>26252 rows × 3 columns</p>\n",
              "</div>\n",
              "      <button class=\"colab-df-convert\" onclick=\"convertToInteractive('df-a12ab1eb-d1b5-4161-964c-e971668e28bd')\"\n",
              "              title=\"Convert this dataframe to an interactive table.\"\n",
              "              style=\"display:none;\">\n",
              "        \n",
              "  <svg xmlns=\"http://www.w3.org/2000/svg\" height=\"24px\"viewBox=\"0 0 24 24\"\n",
              "       width=\"24px\">\n",
              "    <path d=\"M0 0h24v24H0V0z\" fill=\"none\"/>\n",
              "    <path d=\"M18.56 5.44l.94 2.06.94-2.06 2.06-.94-2.06-.94-.94-2.06-.94 2.06-2.06.94zm-11 1L8.5 8.5l.94-2.06 2.06-.94-2.06-.94L8.5 2.5l-.94 2.06-2.06.94zm10 10l.94 2.06.94-2.06 2.06-.94-2.06-.94-.94-2.06-.94 2.06-2.06.94z\"/><path d=\"M17.41 7.96l-1.37-1.37c-.4-.4-.92-.59-1.43-.59-.52 0-1.04.2-1.43.59L10.3 9.45l-7.72 7.72c-.78.78-.78 2.05 0 2.83L4 21.41c.39.39.9.59 1.41.59.51 0 1.02-.2 1.41-.59l7.78-7.78 2.81-2.81c.8-.78.8-2.07 0-2.86zM5.41 20L4 18.59l7.72-7.72 1.47 1.35L5.41 20z\"/>\n",
              "  </svg>\n",
              "      </button>\n",
              "      \n",
              "  <style>\n",
              "    .colab-df-container {\n",
              "      display:flex;\n",
              "      flex-wrap:wrap;\n",
              "      gap: 12px;\n",
              "    }\n",
              "\n",
              "    .colab-df-convert {\n",
              "      background-color: #E8F0FE;\n",
              "      border: none;\n",
              "      border-radius: 50%;\n",
              "      cursor: pointer;\n",
              "      display: none;\n",
              "      fill: #1967D2;\n",
              "      height: 32px;\n",
              "      padding: 0 0 0 0;\n",
              "      width: 32px;\n",
              "    }\n",
              "\n",
              "    .colab-df-convert:hover {\n",
              "      background-color: #E2EBFA;\n",
              "      box-shadow: 0px 1px 2px rgba(60, 64, 67, 0.3), 0px 1px 3px 1px rgba(60, 64, 67, 0.15);\n",
              "      fill: #174EA6;\n",
              "    }\n",
              "\n",
              "    [theme=dark] .colab-df-convert {\n",
              "      background-color: #3B4455;\n",
              "      fill: #D2E3FC;\n",
              "    }\n",
              "\n",
              "    [theme=dark] .colab-df-convert:hover {\n",
              "      background-color: #434B5C;\n",
              "      box-shadow: 0px 1px 3px 1px rgba(0, 0, 0, 0.15);\n",
              "      filter: drop-shadow(0px 1px 2px rgba(0, 0, 0, 0.3));\n",
              "      fill: #FFFFFF;\n",
              "    }\n",
              "  </style>\n",
              "\n",
              "      <script>\n",
              "        const buttonEl =\n",
              "          document.querySelector('#df-a12ab1eb-d1b5-4161-964c-e971668e28bd button.colab-df-convert');\n",
              "        buttonEl.style.display =\n",
              "          google.colab.kernel.accessAllowed ? 'block' : 'none';\n",
              "\n",
              "        async function convertToInteractive(key) {\n",
              "          const element = document.querySelector('#df-a12ab1eb-d1b5-4161-964c-e971668e28bd');\n",
              "          const dataTable =\n",
              "            await google.colab.kernel.invokeFunction('convertToInteractive',\n",
              "                                                     [key], {});\n",
              "          if (!dataTable) return;\n",
              "\n",
              "          const docLinkHtml = 'Like what you see? Visit the ' +\n",
              "            '<a target=\"_blank\" href=https://colab.research.google.com/notebooks/data_table.ipynb>data table notebook</a>'\n",
              "            + ' to learn more about interactive tables.';\n",
              "          element.innerHTML = '';\n",
              "          dataTable['output_type'] = 'display_data';\n",
              "          await google.colab.output.renderOutput(dataTable, element);\n",
              "          const docLink = document.createElement('div');\n",
              "          docLink.innerHTML = docLinkHtml;\n",
              "          element.appendChild(docLink);\n",
              "        }\n",
              "      </script>\n",
              "    </div>\n",
              "  </div>\n",
              "  "
            ]
          },
          "metadata": {},
          "execution_count": 14
        }
      ]
    },
    {
      "cell_type": "code",
      "source": [
        "bayo_tweets = bayo_clean.tweet.tolist()\n",
        "nltk.download('stopwords')\n",
        "from nltk.corpus import stopwords\n",
        "stop_words = set(stopwords.words('english'))"
      ],
      "metadata": {
        "colab": {
          "base_uri": "https://localhost:8080/"
        },
        "id": "XBkNOBtoRW3T",
        "outputId": "7427a0cb-ab05-4667-bc21-12a790d4d4f1"
      },
      "execution_count": 16,
      "outputs": [
        {
          "output_type": "stream",
          "name": "stdout",
          "text": [
            "[nltk_data] Downloading package stopwords to /root/nltk_data...\n",
            "[nltk_data]   Package stopwords is already up-to-date!\n"
          ]
        }
      ]
    },
    {
      "cell_type": "code",
      "source": [
        "kazuya_tweets = kazuya_clean.tweet.tolist()\n",
        "steve_tweets = steve_clean.tweet.tolist()"
      ],
      "metadata": {
        "id": "xq1S8aB6SI4V"
      },
      "execution_count": 17,
      "outputs": []
    },
    {
      "cell_type": "code",
      "source": [
        "vectorizer = TfidfVectorizer(max_df=0.5, min_df=1,stop_words=stop_words)"
      ],
      "metadata": {
        "id": "lmII-xNLSTN-"
      },
      "execution_count": 18,
      "outputs": []
    },
    {
      "cell_type": "code",
      "source": [
        "transformed_bayo_tweets = vectorizer.fit_transform(bayo_tweets)\n",
        "\n",
        "transformed_bayo_tweets_as_array = transformed_bayo_tweets.toarray()\n",
        "\n",
        "tfidf_results_b = []\n",
        "for counter, doc in enumerate(transformed_bayo_tweets_as_array):\n",
        "    tf_idf_tuples = list(zip(vectorizer.get_feature_names(), doc))\n",
        "    one_doc_as_df = pd.DataFrame.from_records(tf_idf_tuples, columns=['term', 'score']).sort_values(by='score', ascending=False).reset_index(drop=True)\n",
        "    tfidf_results_b.append(one_doc_as_df)"
      ],
      "metadata": {
        "colab": {
          "base_uri": "https://localhost:8080/"
        },
        "id": "ZSrI9XMrSWHT",
        "outputId": "af6f9f7e-f91c-4500-da34-41228a928bc8"
      },
      "execution_count": null,
      "outputs": [
        {
          "output_type": "stream",
          "name": "stderr",
          "text": [
            "/usr/local/lib/python3.7/dist-packages/sklearn/utils/deprecation.py:87: FutureWarning: Function get_feature_names is deprecated; get_feature_names is deprecated in 1.0 and will be removed in 1.2. Please use get_feature_names_out instead.\n",
            "  warnings.warn(msg, category=FutureWarning)\n"
          ]
        }
      ]
    },
    {
      "cell_type": "code",
      "source": [
        ""
      ],
      "metadata": {
        "id": "peeIoTjvSWJ1"
      },
      "execution_count": null,
      "outputs": []
    }
  ]
}