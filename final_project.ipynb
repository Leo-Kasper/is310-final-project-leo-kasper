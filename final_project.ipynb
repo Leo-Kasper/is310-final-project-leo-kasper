{
  "nbformat": 4,
  "nbformat_minor": 0,
  "metadata": {
    "colab": {
      "name": "final_project.ipynb",
      "provenance": [],
      "collapsed_sections": [],
      "authorship_tag": "ABX9TyP7jLxSHDLK8vqfmENCaFqp",
      "include_colab_link": true
    },
    "kernelspec": {
      "name": "python3",
      "display_name": "Python 3"
    },
    "language_info": {
      "name": "python"
    }
  },
  "cells": [
    {
      "cell_type": "markdown",
      "metadata": {
        "id": "view-in-github",
        "colab_type": "text"
      },
      "source": [
        "<a href=\"https://colab.research.google.com/github/Leo-Kasper/is310-final-project-leo-kasper/blob/main/final_project.ipynb\" target=\"_parent\"><img src=\"https://colab.research.google.com/assets/colab-badge.svg\" alt=\"Open In Colab\"/></a>"
      ]
    },
    {
      "cell_type": "code",
      "execution_count": null,
      "metadata": {
        "id": "CKvX-Og3P6cN"
      },
      "outputs": [],
      "source": [
        "import pandas as pd\n",
        "import numpy\n",
        "import nltk\n",
        "nltk.download('punkt')\n",
        "from nltk import word_tokenize\n",
        "from nltk import FreqDist\n",
        "# from nltk.stem import PorterStemmer\n",
        "nltk.download('stopwords')\n",
        "from nltk.corpus import stopwords\n",
        "stop_words = set(stopwords.words('english'))\n",
        "# porter = PorterStemmer()\n",
        "# from sklearn.feature_extraction.text import TfidfVectorizer\n",
        "# from nltk.sentiment import SentimentIntensityAnalyzer"
      ]
    },
    {
      "cell_type": "code",
      "source": [
        "kazuya = pd.read_csv('kazuya.csv')\n",
        "bayo = pd.read_csv('bayo.csv')\n",
        "steve = pd.read_csv('steve.csv')"
      ],
      "metadata": {
        "id": "K_-cUa3hQFIL"
      },
      "execution_count": null,
      "outputs": []
    },
    {
      "cell_type": "code",
      "source": [
        "kazuya.head()"
      ],
      "metadata": {
        "id": "HOZ_uYAdQFKx"
      },
      "execution_count": null,
      "outputs": []
    },
    {
      "cell_type": "code",
      "source": [
        "# nltk.download('vader_lexicon')\n",
        "# sia = SentimentIntensityAnalyzer()"
      ],
      "metadata": {
        "id": "izB1VxzfQFNd"
      },
      "execution_count": null,
      "outputs": []
    },
    {
      "cell_type": "code",
      "source": [
        "# bayo_sentiment = 0.0\n",
        "\n",
        "# bayo[~bayo['tweet'].isnull()]\n",
        "\n",
        "# for tweet in bayo['tweet']:\n",
        "#   bayo_sentiment += sia.polarity_scores(tweet)[\"compound\"]\n",
        "\n",
        "# bayo_sentiment"
      ],
      "metadata": {
        "id": "078aP7uyTrcE"
      },
      "execution_count": 7,
      "outputs": []
    },
    {
      "cell_type": "code",
      "source": [
        "# def stem_words(row):\n",
        "#     stemmed_words = ''\n",
        "#     for token in row.tweet.split(' '):\n",
        "#         stemmed_words += porter.stem(token) + ' '\n",
        "#     return stemmed_words"
      ],
      "metadata": {
        "id": "kyBK_8KfYGNu"
      },
      "execution_count": 8,
      "outputs": []
    },
    {
      "cell_type": "code",
      "source": [
        "bayo_clean = pd.DataFrame().assign(tweet=bayo['tweet'], username=bayo['username'])"
      ],
      "metadata": {
        "id": "oVp-yWTiUn70"
      },
      "execution_count": 9,
      "outputs": []
    },
    {
      "cell_type": "code",
      "source": [
        "kazuya_clean = pd.DataFrame().assign(tweet=kazuya['tweet'], username=kazuya['username'])"
      ],
      "metadata": {
        "id": "eqaAU-RBhYBu"
      },
      "execution_count": 10,
      "outputs": []
    },
    {
      "cell_type": "code",
      "source": [
        "steve_clean = pd.DataFrame().assign(tweet=steve['tweet'], username=steve['username'])"
      ],
      "metadata": {
        "id": "H6LhaMS3hsKC"
      },
      "execution_count": 11,
      "outputs": []
    },
    {
      "cell_type": "code",
      "source": [
        "bayo_clean.head()"
      ],
      "metadata": {
        "id": "32wLcW6Pe5Jy"
      },
      "execution_count": null,
      "outputs": []
    },
    {
      "cell_type": "code",
      "source": [
        "bayo_clean = bayo_clean[bayo_clean['tweet'].notnull()]\n",
        "# bayo_clean['stemmed_text'] = bayo_clean.apply(stem_words,axis=1)"
      ],
      "metadata": {
        "id": "Rcx6koCJfA48"
      },
      "execution_count": null,
      "outputs": []
    },
    {
      "cell_type": "code",
      "source": [
        "kazuya_clean = kazuya_clean[kazuya_clean['tweet'].notnull()]\n",
        "# kazuya_clean['stemmed_text'] = kazuya_clean.apply(stem_words,axis=1)"
      ],
      "metadata": {
        "id": "tPszfnRHhfY_"
      },
      "execution_count": 14,
      "outputs": []
    },
    {
      "cell_type": "code",
      "source": [
        "steve_clean = steve_clean[steve_clean['tweet'].notnull()]\n",
        "# steve_clean['stemmed_text'] = steve_clean.apply(stem_words,axis=1)"
      ],
      "metadata": {
        "id": "5gZ2tMtFhfbd"
      },
      "execution_count": 15,
      "outputs": []
    },
    {
      "cell_type": "code",
      "source": [
        "bayo_clean"
      ],
      "metadata": {
        "id": "AVB0OlHVgrpM"
      },
      "execution_count": null,
      "outputs": []
    },
    {
      "cell_type": "code",
      "source": [
        "bayo_clean_sample = bayo_clean.sample(n=5000)"
      ],
      "metadata": {
        "id": "92ICGTnMqKeq"
      },
      "execution_count": 17,
      "outputs": []
    },
    {
      "cell_type": "code",
      "source": [
        "bayo_clean_sample.head()"
      ],
      "metadata": {
        "id": "8Jpr1Li9qL6M"
      },
      "execution_count": null,
      "outputs": []
    },
    {
      "cell_type": "code",
      "source": [
        "\n",
        "bayo_clean_sample = bayo_clean.sample(n=5000)\n",
        "# bayo_tweets = bayo_clean_sample.tweet.tolist()"
      ],
      "metadata": {
        "id": "XBkNOBtoRW3T"
      },
      "execution_count": null,
      "outputs": []
    },
    {
      "cell_type": "code",
      "source": [
        "\n",
        "kazuya_clean_sample = kazuya_clean.sample(n=5000)\n",
        "# kazuya_tweets = kazuya_clean_sample.tweet.tolist()\n",
        "\n",
        "steve_clean_sample = steve_clean.sample(n=5000)\n",
        "# steve_tweets = steve_clean_sample.tweet.tolist()"
      ],
      "metadata": {
        "id": "xq1S8aB6SI4V"
      },
      "execution_count": 20,
      "outputs": []
    },
    {
      "cell_type": "code",
      "source": [
        ""
      ],
      "metadata": {
        "id": "6r3I9etL47Rf"
      },
      "execution_count": null,
      "outputs": []
    },
    {
      "cell_type": "code",
      "source": [
        ""
      ],
      "metadata": {
        "id": "xNMApfUn47T-"
      },
      "execution_count": null,
      "outputs": []
    },
    {
      "cell_type": "code",
      "source": [
        ""
      ],
      "metadata": {
        "id": "vzktebKS47Xr"
      },
      "execution_count": null,
      "outputs": []
    },
    {
      "cell_type": "code",
      "source": [
        ""
      ],
      "metadata": {
        "id": "Xv1AFNu047Yn"
      },
      "execution_count": null,
      "outputs": []
    },
    {
      "cell_type": "code",
      "source": [
        ""
      ],
      "metadata": {
        "id": "_600eCVW47as"
      },
      "execution_count": null,
      "outputs": []
    },
    {
      "cell_type": "code",
      "source": [
        ""
      ],
      "metadata": {
        "id": "WusgdU_G47cy"
      },
      "execution_count": null,
      "outputs": []
    },
    {
      "cell_type": "code",
      "source": [
        "# vectorizer = TfidfVectorizer(max_df=0.5, min_df=1,stop_words=stop_words)"
      ],
      "metadata": {
        "id": "lmII-xNLSTN-"
      },
      "execution_count": 21,
      "outputs": []
    },
    {
      "cell_type": "code",
      "source": [
        "# transformed_bayo_tweets = vectorizer.fit_transform(bayo_tweets)\n",
        "\n",
        "# transformed_bayo_tweets_as_array = transformed_bayo_tweets.toarray()\n",
        "\n",
        "# tfidf_results_b = []\n",
        "# for counter, doc in enumerate(transformed_bayo_tweets_as_array):\n",
        "#     tf_idf_tuples = list(zip(vectorizer.get_feature_names(), doc))\n",
        "#     one_doc_as_df = pd.DataFrame.from_records(tf_idf_tuples, columns=['term', 'score']).sort_values(by='score', ascending=False).reset_index(drop=True)\n",
        "#     tfidf_results_b.append(one_doc_as_df)"
      ],
      "metadata": {
        "id": "ZSrI9XMrSWHT"
      },
      "execution_count": null,
      "outputs": []
    },
    {
      "cell_type": "code",
      "source": [
        "# tfidf_df_b = pd.concat(tfidf_results_b)\n",
        "# tfidf_df_b = tfidf_df_b.sort_values(by=['score'], ascending=False)\n",
        "# tfidf_df_b\n",
        "# tfidf_df_b.to_csv('tfidf_b.csv')\n",
        "# files.download('tfidf_b.csv')"
      ],
      "metadata": {
        "id": "w8EucNEgt8Ok"
      },
      "execution_count": null,
      "outputs": []
    },
    {
      "cell_type": "code",
      "source": [
        "# transformed_kazuya_tweets = vectorizer.fit_transform(kazuya_tweets)\n",
        "\n",
        "# transformed_kazuya_tweets_as_array = transformed_kazuya_tweets.toarray()\n",
        "\n",
        "# tfidf_results_k = []\n",
        "# for counter, doc in enumerate(transformed_kazuya_tweets_as_array):\n",
        "#     tf_idf_tuples = list(zip(vectorizer.get_feature_names(), doc))\n",
        "#     one_doc_as_df = pd.DataFrame.from_records(tf_idf_tuples, columns=['term', 'score']).sort_values(by='score', ascending=False).reset_index(drop=True)\n",
        "#     tfidf_results_k.append(one_doc_as_df)"
      ],
      "metadata": {
        "id": "BwLcDXXmvB3f"
      },
      "execution_count": null,
      "outputs": []
    },
    {
      "cell_type": "code",
      "source": [
        "# tfidf_df_k = pd.concat(tfidf_results_k)\n",
        "# tfidf_df_k = tfidf_df_k.sort_values(by=['score'], ascending=False)\n",
        "# tfidf_df_k\n",
        "# tfidf_df_k.to_csv('tfidf_k.csv')\n",
        "# files.download('tfidf_k.csv')"
      ],
      "metadata": {
        "id": "6dTqF9TzvB-7"
      },
      "execution_count": null,
      "outputs": []
    },
    {
      "cell_type": "code",
      "source": [
        "# tfidf_df_k.head(50)"
      ],
      "metadata": {
        "id": "Is_G2O6OvCEq"
      },
      "execution_count": null,
      "outputs": []
    },
    {
      "cell_type": "code",
      "source": [
        "# transformed_steve_tweets = vectorizer.fit_transform(steve_tweets)\n",
        "\n",
        "# transformed_steve_tweets_as_array = transformed_steve_tweets.toarray()\n",
        "\n",
        "# tfidf_results_s = []\n",
        "# for counter, doc in enumerate(transformed_steve_tweets_as_array):\n",
        "#     tf_idf_tuples = list(zip(vectorizer.get_feature_names(), doc))\n",
        "#     one_doc_as_df = pd.DataFrame.from_records(tf_idf_tuples, columns=['term', 'score']).sort_values(by='score', ascending=False).reset_index(drop=True)\n",
        "#     tfidf_results_s.append(one_doc_as_df)"
      ],
      "metadata": {
        "id": "mQ3AVdYKvCJE"
      },
      "execution_count": null,
      "outputs": []
    },
    {
      "cell_type": "code",
      "source": [
        "# tfidf_df_s = pd.concat(tfidf_results_s)\n",
        "# tfidf_df_s = tfidf_df_s.sort_values(by=['score'], ascending=False)\n",
        "# tfidf_df_s"
      ],
      "metadata": {
        "id": "nGRODn9IxMDB"
      },
      "execution_count": null,
      "outputs": []
    },
    {
      "cell_type": "code",
      "source": [
        ""
      ],
      "metadata": {
        "id": "gpA-H4-4xcln"
      },
      "execution_count": null,
      "outputs": []
    }
  ]
}