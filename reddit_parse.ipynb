{
  "nbformat": 4,
  "nbformat_minor": 0,
  "metadata": {
    "colab": {
      "name": "reddit-parse.ipynb",
      "provenance": [],
      "collapsed_sections": [],
      "authorship_tag": "ABX9TyP5BpKpRcTIh/1desiDfQf5",
      "include_colab_link": true
    },
    "kernelspec": {
      "name": "python3",
      "display_name": "Python 3"
    },
    "language_info": {
      "name": "python"
    }
  },
  "cells": [
    {
      "cell_type": "markdown",
      "metadata": {
        "id": "view-in-github",
        "colab_type": "text"
      },
      "source": [
        "<a href=\"https://colab.research.google.com/github/Leo-Kasper/is310-final-project-leo-kasper/blob/main/reddit_parse.ipynb\" target=\"_parent\"><img src=\"https://colab.research.google.com/assets/colab-badge.svg\" alt=\"Open In Colab\"/></a>"
      ]
    },
    {
      "cell_type": "code",
      "execution_count": null,
      "metadata": {
        "id": "f1X3-z45JMEz"
      },
      "outputs": [],
      "source": [
        "!pip install asyncpraw"
      ]
    },
    {
      "cell_type": "code",
      "source": [
        "import praw"
      ],
      "metadata": {
        "id": "hLFajMXLJXcU"
      },
      "execution_count": 44,
      "outputs": []
    },
    {
      "cell_type": "code",
      "source": [
        "reddit = praw.Reddit(\n",
        "    client_id=\"D8L6ns6DU49FI7BmK-WMPA\",\n",
        "    client_secret=\"9ImPfUIRPV0fgiCAwjvmCNYSPZl9EQ\",\n",
        "    password=\"*0!F0RoME7^hv^dA\",\n",
        "    user_agent=\"testscript by u/WingsLDK\",\n",
        "    username=\"WingsLDK\",\n",
        ")"
      ],
      "metadata": {
        "id": "0LAyOWnUKpa9"
      },
      "execution_count": 45,
      "outputs": []
    },
    {
      "cell_type": "code",
      "source": [
        "reddit.user.me()"
      ],
      "metadata": {
        "colab": {
          "base_uri": "https://localhost:8080/"
        },
        "id": "NiZ-vBmULIFJ",
        "outputId": "ca1e02ce-0007-445a-93f9-989eb64fe66d"
      },
      "execution_count": 47,
      "outputs": [
        {
          "output_type": "execute_result",
          "data": {
            "text/plain": [
              "Redditor(name='WingsLDK')"
            ]
          },
          "metadata": {},
          "execution_count": 47
        }
      ]
    },
    {
      "cell_type": "code",
      "source": [
        "subreddit = reddit.subreddit(\"NYYankees\")"
      ],
      "metadata": {
        "id": "PNKSzf4rLLgx"
      },
      "execution_count": 49,
      "outputs": []
    },
    {
      "cell_type": "code",
      "source": [
        "for submission in subreddit.top(limit=25):\n",
        "    print(submission.title)"
      ],
      "metadata": {
        "colab": {
          "base_uri": "https://localhost:8080/"
        },
        "id": "2NU2xYtLRaUY",
        "outputId": "2d6cf1ea-b5b1-44f3-edb9-67a287fabddf"
      },
      "execution_count": 51,
      "outputs": [
        {
          "output_type": "stream",
          "name": "stderr",
          "text": [
            "It appears that you are using PRAW in an asynchronous environment.\n",
            "It is strongly recommended to use Async PRAW: https://asyncpraw.readthedocs.io.\n",
            "See https://praw.readthedocs.io/en/latest/getting_started/multiple_instances.html#discord-bots-and-asynchronous-environments for more info.\n",
            "\n"
          ]
        },
        {
          "output_type": "stream",
          "name": "stdout",
          "text": [
            "If this post gets 200 upvotes, the mods will be left with no choice but to turn this into a Yankee Candle themed subreddit until the Yankees go on a winning streak\n",
            "THE YANKEES HAVE ADVANCED TO THE ALCS UPVOTE PARTY!!!! WHAT A GAME, WHAT A TEAM!!!!\n",
            "How many games back are the Red Sox, Brett?\n",
            "[Heyman] Breaking: Gerrit Cole to Yankees. 9 years. 36M per. 324M total.\n",
            "THE YANKEES WIN GAME 5 OF THE ALCS UPVOTE PARTY!!!!!\n",
            "Will Hal Steinbrenner do anything about the direction of this team after the 2022 season?\n",
            "Aaron Judge\n",
            "Will the New York Yankees sign Carlos Correa?\n",
            "FUCK THE ASTROS\n",
            "Let’s see who’s under that mask\n",
            "THE HOUSTON ASTROS HAVE BEEN ELIMINATED FROM WORLD SERIES CONTENTION\n",
            "DIDI GREGORIUS APPRECIATION POST\n",
            "THE YANKEES TAKE GAME 4 OF THE ALCS UPVOTE PARTY!!!! JUDGE, DIDI AND MANY OTHERS AID IN THE VICTORY. WHAT A GAME!!!!!\n",
            "ALCS UPVOTE PARTY!!!!\n",
            "JOE KELLY IS A LITTLE BITCH UPVOTE PARTY\n",
            "<-- number of games the Blue Jays are gonna lose this year\n",
            "I’m convinced this Yankee team is being controlled by a 10 year old playing the show\n",
            "[Highlight] GIO URSHELA GRAND SLAM FOR THE LEAD!!!\n",
            "A rare W from Carrabis\n",
            "THE 2019 BOSTON RED SOX HAVE BEEN ELIMINATED FROM AL EAST CONTENTION BY YOUR NEW YORK YANKEES!\n",
            "AARON HICKS LEAPING CATCH WINS IT FOR THE YANKEES\n",
            "[Highlight] The Yankees turn a FUCKING TRIPLE PLAY to keep it tied at 1 heading to the bottom of the ninth\n",
            "PERIOD.\n",
            "Mariano unanimous\n",
            "Judge's HR with ESPN field mics\n"
          ]
        }
      ]
    }
  ]
}