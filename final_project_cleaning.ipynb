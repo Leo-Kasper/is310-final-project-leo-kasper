{
  "nbformat": 4,
  "nbformat_minor": 0,
  "metadata": {
    "colab": {
      "name": "final_project_cleaning.ipynb",
      "provenance": [],
      "collapsed_sections": [],
      "authorship_tag": "ABX9TyMSMIeNWJOshInxdYnZfxAy",
      "include_colab_link": true
    },
    "kernelspec": {
      "name": "python3",
      "display_name": "Python 3"
    },
    "language_info": {
      "name": "python"
    }
  },
  "cells": [
    {
      "cell_type": "markdown",
      "metadata": {
        "id": "view-in-github",
        "colab_type": "text"
      },
      "source": [
        "<a href=\"https://colab.research.google.com/github/Leo-Kasper/is310-final-project-leo-kasper/blob/main/final_project_cleaning.ipynb\" target=\"_parent\"><img src=\"https://colab.research.google.com/assets/colab-badge.svg\" alt=\"Open In Colab\"/></a>"
      ]
    },
    {
      "cell_type": "code",
      "execution_count": 1,
      "metadata": {
        "colab": {
          "base_uri": "https://localhost:8080/"
        },
        "id": "CKvX-Og3P6cN",
        "outputId": "27171d83-cb5d-4d48-ee46-dd947d364c7b"
      },
      "outputs": [
        {
          "output_type": "stream",
          "name": "stdout",
          "text": [
            "[nltk_data] Downloading package punkt to /root/nltk_data...\n",
            "[nltk_data]   Unzipping tokenizers/punkt.zip.\n",
            "[nltk_data] Downloading package stopwords to /root/nltk_data...\n",
            "[nltk_data]   Unzipping corpora/stopwords.zip.\n"
          ]
        }
      ],
      "source": [
        "import pandas as pd\n",
        "import numpy\n",
        "import nltk\n",
        "nltk.download('punkt')\n",
        "from nltk import word_tokenize\n",
        "from nltk import FreqDist\n",
        "# from nltk.stem import PorterStemmer\n",
        "nltk.download('stopwords')\n",
        "from nltk.corpus import stopwords\n",
        "stop_words = set(stopwords.words('english'))\n",
        "# porter = PorterStemmer()\n",
        "# from sklearn.feature_extraction.text import TfidfVectorizer\n",
        "# from nltk.sentiment import SentimentIntensityAnalyzer"
      ]
    },
    {
      "cell_type": "code",
      "source": [
        "kazuya = pd.read_csv('kazuya.csv')\n",
        "bayo = pd.read_csv('bayo.csv')\n",
        "steve = pd.read_csv('steve.csv')"
      ],
      "metadata": {
        "colab": {
          "base_uri": "https://localhost:8080/"
        },
        "id": "K_-cUa3hQFIL",
        "outputId": "4ae4571f-10b5-4e07-9b41-d821e64b8464"
      },
      "execution_count": 4,
      "outputs": [
        {
          "output_type": "stream",
          "name": "stderr",
          "text": [
            "/usr/local/lib/python3.7/dist-packages/IPython/core/interactiveshell.py:2882: DtypeWarning: Columns (0,1,2,3,6,11,12,15,20,22) have mixed types.Specify dtype option on import or set low_memory=False.\n",
            "  exec(code_obj, self.user_global_ns, self.user_ns)\n"
          ]
        }
      ]
    },
    {
      "cell_type": "code",
      "source": [
        "kazuya.head()"
      ],
      "metadata": {
        "colab": {
          "base_uri": "https://localhost:8080/",
          "height": 470
        },
        "id": "HOZ_uYAdQFKx",
        "outputId": "2dea7e84-0628-4dc1-bb9f-f1538f73a581"
      },
      "execution_count": 5,
      "outputs": [
        {
          "output_type": "execute_result",
          "data": {
            "text/plain": [
              "   Unnamed: 0                   id      conversation_id    created_at  \\\n",
              "0           0  1524102744340062212  1524102744340062212  1.652209e+12   \n",
              "1           1  1524043507299602434  1524043165199593472  1.652195e+12   \n",
              "2           4  1523913102965805058  1523913102965805058  1.652164e+12   \n",
              "3           6  1523849081449238528  1523849081449238528  1.652149e+12   \n",
              "4           7  1523847584355438594  1523847584355438594  1.652149e+12   \n",
              "\n",
              "                  date  timezone  place  \\\n",
              "0  2022-05-10 19:03:05         0    NaN   \n",
              "1  2022-05-10 15:07:42         0    NaN   \n",
              "2  2022-05-10 06:29:31         0    NaN   \n",
              "3  2022-05-10 02:15:07         0    NaN   \n",
              "4  2022-05-10 02:09:10         0    NaN   \n",
              "\n",
              "                                               tweet language hashtags  ...  \\\n",
              "0  Steve and Kazuya are the future of smash I do ...       en       []  ...   \n",
              "1  Speaking of, Smash Ultimate is so weird becaus...       en       []  ...   \n",
              "2  I'm just imagining how terrified Smash players...       en       []  ...   \n",
              "3  I like how some Smash tourneys will ban Steve ...       en       []  ...   \n",
              "4  I want to talk about Kazuya after playing non-...       en       []  ...   \n",
              "\n",
              "  geo  source  user_rt_id user_rt retweet_id  reply_to  retweet_date  \\\n",
              "0 NaN     NaN         NaN     NaN        NaN        []           NaN   \n",
              "1 NaN     NaN         NaN     NaN        NaN        []           NaN   \n",
              "2 NaN     NaN         NaN     NaN        NaN        []           NaN   \n",
              "3 NaN     NaN         NaN     NaN        NaN        []           NaN   \n",
              "4 NaN     NaN         NaN     NaN        NaN        []           NaN   \n",
              "\n",
              "  translate trans_src trans_dest  \n",
              "0       NaN       NaN        NaN  \n",
              "1       NaN       NaN        NaN  \n",
              "2       NaN       NaN        NaN  \n",
              "3       NaN       NaN        NaN  \n",
              "4       NaN       NaN        NaN  \n",
              "\n",
              "[5 rows x 39 columns]"
            ],
            "text/html": [
              "\n",
              "  <div id=\"df-28eca669-42e5-4f7a-8a82-d0edf649a7c0\">\n",
              "    <div class=\"colab-df-container\">\n",
              "      <div>\n",
              "<style scoped>\n",
              "    .dataframe tbody tr th:only-of-type {\n",
              "        vertical-align: middle;\n",
              "    }\n",
              "\n",
              "    .dataframe tbody tr th {\n",
              "        vertical-align: top;\n",
              "    }\n",
              "\n",
              "    .dataframe thead th {\n",
              "        text-align: right;\n",
              "    }\n",
              "</style>\n",
              "<table border=\"1\" class=\"dataframe\">\n",
              "  <thead>\n",
              "    <tr style=\"text-align: right;\">\n",
              "      <th></th>\n",
              "      <th>Unnamed: 0</th>\n",
              "      <th>id</th>\n",
              "      <th>conversation_id</th>\n",
              "      <th>created_at</th>\n",
              "      <th>date</th>\n",
              "      <th>timezone</th>\n",
              "      <th>place</th>\n",
              "      <th>tweet</th>\n",
              "      <th>language</th>\n",
              "      <th>hashtags</th>\n",
              "      <th>...</th>\n",
              "      <th>geo</th>\n",
              "      <th>source</th>\n",
              "      <th>user_rt_id</th>\n",
              "      <th>user_rt</th>\n",
              "      <th>retweet_id</th>\n",
              "      <th>reply_to</th>\n",
              "      <th>retweet_date</th>\n",
              "      <th>translate</th>\n",
              "      <th>trans_src</th>\n",
              "      <th>trans_dest</th>\n",
              "    </tr>\n",
              "  </thead>\n",
              "  <tbody>\n",
              "    <tr>\n",
              "      <th>0</th>\n",
              "      <td>0</td>\n",
              "      <td>1524102744340062212</td>\n",
              "      <td>1524102744340062212</td>\n",
              "      <td>1.652209e+12</td>\n",
              "      <td>2022-05-10 19:03:05</td>\n",
              "      <td>0</td>\n",
              "      <td>NaN</td>\n",
              "      <td>Steve and Kazuya are the future of smash I do ...</td>\n",
              "      <td>en</td>\n",
              "      <td>[]</td>\n",
              "      <td>...</td>\n",
              "      <td>NaN</td>\n",
              "      <td>NaN</td>\n",
              "      <td>NaN</td>\n",
              "      <td>NaN</td>\n",
              "      <td>NaN</td>\n",
              "      <td>[]</td>\n",
              "      <td>NaN</td>\n",
              "      <td>NaN</td>\n",
              "      <td>NaN</td>\n",
              "      <td>NaN</td>\n",
              "    </tr>\n",
              "    <tr>\n",
              "      <th>1</th>\n",
              "      <td>1</td>\n",
              "      <td>1524043507299602434</td>\n",
              "      <td>1524043165199593472</td>\n",
              "      <td>1.652195e+12</td>\n",
              "      <td>2022-05-10 15:07:42</td>\n",
              "      <td>0</td>\n",
              "      <td>NaN</td>\n",
              "      <td>Speaking of, Smash Ultimate is so weird becaus...</td>\n",
              "      <td>en</td>\n",
              "      <td>[]</td>\n",
              "      <td>...</td>\n",
              "      <td>NaN</td>\n",
              "      <td>NaN</td>\n",
              "      <td>NaN</td>\n",
              "      <td>NaN</td>\n",
              "      <td>NaN</td>\n",
              "      <td>[]</td>\n",
              "      <td>NaN</td>\n",
              "      <td>NaN</td>\n",
              "      <td>NaN</td>\n",
              "      <td>NaN</td>\n",
              "    </tr>\n",
              "    <tr>\n",
              "      <th>2</th>\n",
              "      <td>4</td>\n",
              "      <td>1523913102965805058</td>\n",
              "      <td>1523913102965805058</td>\n",
              "      <td>1.652164e+12</td>\n",
              "      <td>2022-05-10 06:29:31</td>\n",
              "      <td>0</td>\n",
              "      <td>NaN</td>\n",
              "      <td>I'm just imagining how terrified Smash players...</td>\n",
              "      <td>en</td>\n",
              "      <td>[]</td>\n",
              "      <td>...</td>\n",
              "      <td>NaN</td>\n",
              "      <td>NaN</td>\n",
              "      <td>NaN</td>\n",
              "      <td>NaN</td>\n",
              "      <td>NaN</td>\n",
              "      <td>[]</td>\n",
              "      <td>NaN</td>\n",
              "      <td>NaN</td>\n",
              "      <td>NaN</td>\n",
              "      <td>NaN</td>\n",
              "    </tr>\n",
              "    <tr>\n",
              "      <th>3</th>\n",
              "      <td>6</td>\n",
              "      <td>1523849081449238528</td>\n",
              "      <td>1523849081449238528</td>\n",
              "      <td>1.652149e+12</td>\n",
              "      <td>2022-05-10 02:15:07</td>\n",
              "      <td>0</td>\n",
              "      <td>NaN</td>\n",
              "      <td>I like how some Smash tourneys will ban Steve ...</td>\n",
              "      <td>en</td>\n",
              "      <td>[]</td>\n",
              "      <td>...</td>\n",
              "      <td>NaN</td>\n",
              "      <td>NaN</td>\n",
              "      <td>NaN</td>\n",
              "      <td>NaN</td>\n",
              "      <td>NaN</td>\n",
              "      <td>[]</td>\n",
              "      <td>NaN</td>\n",
              "      <td>NaN</td>\n",
              "      <td>NaN</td>\n",
              "      <td>NaN</td>\n",
              "    </tr>\n",
              "    <tr>\n",
              "      <th>4</th>\n",
              "      <td>7</td>\n",
              "      <td>1523847584355438594</td>\n",
              "      <td>1523847584355438594</td>\n",
              "      <td>1.652149e+12</td>\n",
              "      <td>2022-05-10 02:09:10</td>\n",
              "      <td>0</td>\n",
              "      <td>NaN</td>\n",
              "      <td>I want to talk about Kazuya after playing non-...</td>\n",
              "      <td>en</td>\n",
              "      <td>[]</td>\n",
              "      <td>...</td>\n",
              "      <td>NaN</td>\n",
              "      <td>NaN</td>\n",
              "      <td>NaN</td>\n",
              "      <td>NaN</td>\n",
              "      <td>NaN</td>\n",
              "      <td>[]</td>\n",
              "      <td>NaN</td>\n",
              "      <td>NaN</td>\n",
              "      <td>NaN</td>\n",
              "      <td>NaN</td>\n",
              "    </tr>\n",
              "  </tbody>\n",
              "</table>\n",
              "<p>5 rows × 39 columns</p>\n",
              "</div>\n",
              "      <button class=\"colab-df-convert\" onclick=\"convertToInteractive('df-28eca669-42e5-4f7a-8a82-d0edf649a7c0')\"\n",
              "              title=\"Convert this dataframe to an interactive table.\"\n",
              "              style=\"display:none;\">\n",
              "        \n",
              "  <svg xmlns=\"http://www.w3.org/2000/svg\" height=\"24px\"viewBox=\"0 0 24 24\"\n",
              "       width=\"24px\">\n",
              "    <path d=\"M0 0h24v24H0V0z\" fill=\"none\"/>\n",
              "    <path d=\"M18.56 5.44l.94 2.06.94-2.06 2.06-.94-2.06-.94-.94-2.06-.94 2.06-2.06.94zm-11 1L8.5 8.5l.94-2.06 2.06-.94-2.06-.94L8.5 2.5l-.94 2.06-2.06.94zm10 10l.94 2.06.94-2.06 2.06-.94-2.06-.94-.94-2.06-.94 2.06-2.06.94z\"/><path d=\"M17.41 7.96l-1.37-1.37c-.4-.4-.92-.59-1.43-.59-.52 0-1.04.2-1.43.59L10.3 9.45l-7.72 7.72c-.78.78-.78 2.05 0 2.83L4 21.41c.39.39.9.59 1.41.59.51 0 1.02-.2 1.41-.59l7.78-7.78 2.81-2.81c.8-.78.8-2.07 0-2.86zM5.41 20L4 18.59l7.72-7.72 1.47 1.35L5.41 20z\"/>\n",
              "  </svg>\n",
              "      </button>\n",
              "      \n",
              "  <style>\n",
              "    .colab-df-container {\n",
              "      display:flex;\n",
              "      flex-wrap:wrap;\n",
              "      gap: 12px;\n",
              "    }\n",
              "\n",
              "    .colab-df-convert {\n",
              "      background-color: #E8F0FE;\n",
              "      border: none;\n",
              "      border-radius: 50%;\n",
              "      cursor: pointer;\n",
              "      display: none;\n",
              "      fill: #1967D2;\n",
              "      height: 32px;\n",
              "      padding: 0 0 0 0;\n",
              "      width: 32px;\n",
              "    }\n",
              "\n",
              "    .colab-df-convert:hover {\n",
              "      background-color: #E2EBFA;\n",
              "      box-shadow: 0px 1px 2px rgba(60, 64, 67, 0.3), 0px 1px 3px 1px rgba(60, 64, 67, 0.15);\n",
              "      fill: #174EA6;\n",
              "    }\n",
              "\n",
              "    [theme=dark] .colab-df-convert {\n",
              "      background-color: #3B4455;\n",
              "      fill: #D2E3FC;\n",
              "    }\n",
              "\n",
              "    [theme=dark] .colab-df-convert:hover {\n",
              "      background-color: #434B5C;\n",
              "      box-shadow: 0px 1px 3px 1px rgba(0, 0, 0, 0.15);\n",
              "      filter: drop-shadow(0px 1px 2px rgba(0, 0, 0, 0.3));\n",
              "      fill: #FFFFFF;\n",
              "    }\n",
              "  </style>\n",
              "\n",
              "      <script>\n",
              "        const buttonEl =\n",
              "          document.querySelector('#df-28eca669-42e5-4f7a-8a82-d0edf649a7c0 button.colab-df-convert');\n",
              "        buttonEl.style.display =\n",
              "          google.colab.kernel.accessAllowed ? 'block' : 'none';\n",
              "\n",
              "        async function convertToInteractive(key) {\n",
              "          const element = document.querySelector('#df-28eca669-42e5-4f7a-8a82-d0edf649a7c0');\n",
              "          const dataTable =\n",
              "            await google.colab.kernel.invokeFunction('convertToInteractive',\n",
              "                                                     [key], {});\n",
              "          if (!dataTable) return;\n",
              "\n",
              "          const docLinkHtml = 'Like what you see? Visit the ' +\n",
              "            '<a target=\"_blank\" href=https://colab.research.google.com/notebooks/data_table.ipynb>data table notebook</a>'\n",
              "            + ' to learn more about interactive tables.';\n",
              "          element.innerHTML = '';\n",
              "          dataTable['output_type'] = 'display_data';\n",
              "          await google.colab.output.renderOutput(dataTable, element);\n",
              "          const docLink = document.createElement('div');\n",
              "          docLink.innerHTML = docLinkHtml;\n",
              "          element.appendChild(docLink);\n",
              "        }\n",
              "      </script>\n",
              "    </div>\n",
              "  </div>\n",
              "  "
            ]
          },
          "metadata": {},
          "execution_count": 5
        }
      ]
    },
    {
      "cell_type": "code",
      "source": [
        "# nltk.download('vader_lexicon')\n",
        "# sia = SentimentIntensityAnalyzer()"
      ],
      "metadata": {
        "id": "izB1VxzfQFNd"
      },
      "execution_count": 6,
      "outputs": []
    },
    {
      "cell_type": "code",
      "source": [
        "# bayo_sentiment = 0.0\n",
        "\n",
        "# bayo[~bayo['tweet'].isnull()]\n",
        "\n",
        "# for tweet in bayo['tweet']:\n",
        "#   bayo_sentiment += sia.polarity_scores(tweet)[\"compound\"]\n",
        "\n",
        "# bayo_sentiment"
      ],
      "metadata": {
        "id": "078aP7uyTrcE"
      },
      "execution_count": 7,
      "outputs": []
    },
    {
      "cell_type": "code",
      "source": [
        "# def stem_words(row):\n",
        "#     stemmed_words = ''\n",
        "#     for token in row.tweet.split(' '):\n",
        "#         stemmed_words += porter.stem(token) + ' '\n",
        "#     return stemmed_words"
      ],
      "metadata": {
        "id": "kyBK_8KfYGNu"
      },
      "execution_count": 8,
      "outputs": []
    },
    {
      "cell_type": "code",
      "source": [
        "bayo_clean = pd.DataFrame().assign(tweet=bayo['tweet'], username=bayo['username'])"
      ],
      "metadata": {
        "id": "oVp-yWTiUn70"
      },
      "execution_count": 9,
      "outputs": []
    },
    {
      "cell_type": "code",
      "source": [
        "kazuya_clean = pd.DataFrame().assign(tweet=kazuya['tweet'], username=kazuya['username'])"
      ],
      "metadata": {
        "id": "eqaAU-RBhYBu"
      },
      "execution_count": 10,
      "outputs": []
    },
    {
      "cell_type": "code",
      "source": [
        "steve_clean = pd.DataFrame().assign(tweet=steve['tweet'], username=steve['username'])"
      ],
      "metadata": {
        "id": "H6LhaMS3hsKC"
      },
      "execution_count": 11,
      "outputs": []
    },
    {
      "cell_type": "code",
      "source": [
        "bayo_clean.head()"
      ],
      "metadata": {
        "colab": {
          "base_uri": "https://localhost:8080/",
          "height": 206
        },
        "id": "32wLcW6Pe5Jy",
        "outputId": "a641fcc6-a68f-469a-c99d-6c8d6af8a843"
      },
      "execution_count": 12,
      "outputs": [
        {
          "output_type": "execute_result",
          "data": {
            "text/plain": [
              "                                               tweet       username\n",
              "0  @PowerFuck Dmc 5, smash ultimate uhh bayonetta...   Handler_Chan\n",
              "1  its so weird seeing non smash twitter talking ...    AceOfGaykes\n",
              "2  If there’s a Bayonetta 3, Smash or Metroid Pri...  FinalGrantasy\n",
              "3  @Actual_YTWaffle @geoffkeighley Well, you can ...   MATT_HAZARD_\n",
              "4  If I end up missing the Game Awards today, I t...  Light_Suit213"
            ],
            "text/html": [
              "\n",
              "  <div id=\"df-b2c27242-d2e6-4d19-9dcd-2a1bf10eb24b\">\n",
              "    <div class=\"colab-df-container\">\n",
              "      <div>\n",
              "<style scoped>\n",
              "    .dataframe tbody tr th:only-of-type {\n",
              "        vertical-align: middle;\n",
              "    }\n",
              "\n",
              "    .dataframe tbody tr th {\n",
              "        vertical-align: top;\n",
              "    }\n",
              "\n",
              "    .dataframe thead th {\n",
              "        text-align: right;\n",
              "    }\n",
              "</style>\n",
              "<table border=\"1\" class=\"dataframe\">\n",
              "  <thead>\n",
              "    <tr style=\"text-align: right;\">\n",
              "      <th></th>\n",
              "      <th>tweet</th>\n",
              "      <th>username</th>\n",
              "    </tr>\n",
              "  </thead>\n",
              "  <tbody>\n",
              "    <tr>\n",
              "      <th>0</th>\n",
              "      <td>@PowerFuck Dmc 5, smash ultimate uhh bayonetta...</td>\n",
              "      <td>Handler_Chan</td>\n",
              "    </tr>\n",
              "    <tr>\n",
              "      <th>1</th>\n",
              "      <td>its so weird seeing non smash twitter talking ...</td>\n",
              "      <td>AceOfGaykes</td>\n",
              "    </tr>\n",
              "    <tr>\n",
              "      <th>2</th>\n",
              "      <td>If there’s a Bayonetta 3, Smash or Metroid Pri...</td>\n",
              "      <td>FinalGrantasy</td>\n",
              "    </tr>\n",
              "    <tr>\n",
              "      <th>3</th>\n",
              "      <td>@Actual_YTWaffle @geoffkeighley Well, you can ...</td>\n",
              "      <td>MATT_HAZARD_</td>\n",
              "    </tr>\n",
              "    <tr>\n",
              "      <th>4</th>\n",
              "      <td>If I end up missing the Game Awards today, I t...</td>\n",
              "      <td>Light_Suit213</td>\n",
              "    </tr>\n",
              "  </tbody>\n",
              "</table>\n",
              "</div>\n",
              "      <button class=\"colab-df-convert\" onclick=\"convertToInteractive('df-b2c27242-d2e6-4d19-9dcd-2a1bf10eb24b')\"\n",
              "              title=\"Convert this dataframe to an interactive table.\"\n",
              "              style=\"display:none;\">\n",
              "        \n",
              "  <svg xmlns=\"http://www.w3.org/2000/svg\" height=\"24px\"viewBox=\"0 0 24 24\"\n",
              "       width=\"24px\">\n",
              "    <path d=\"M0 0h24v24H0V0z\" fill=\"none\"/>\n",
              "    <path d=\"M18.56 5.44l.94 2.06.94-2.06 2.06-.94-2.06-.94-.94-2.06-.94 2.06-2.06.94zm-11 1L8.5 8.5l.94-2.06 2.06-.94-2.06-.94L8.5 2.5l-.94 2.06-2.06.94zm10 10l.94 2.06.94-2.06 2.06-.94-2.06-.94-.94-2.06-.94 2.06-2.06.94z\"/><path d=\"M17.41 7.96l-1.37-1.37c-.4-.4-.92-.59-1.43-.59-.52 0-1.04.2-1.43.59L10.3 9.45l-7.72 7.72c-.78.78-.78 2.05 0 2.83L4 21.41c.39.39.9.59 1.41.59.51 0 1.02-.2 1.41-.59l7.78-7.78 2.81-2.81c.8-.78.8-2.07 0-2.86zM5.41 20L4 18.59l7.72-7.72 1.47 1.35L5.41 20z\"/>\n",
              "  </svg>\n",
              "      </button>\n",
              "      \n",
              "  <style>\n",
              "    .colab-df-container {\n",
              "      display:flex;\n",
              "      flex-wrap:wrap;\n",
              "      gap: 12px;\n",
              "    }\n",
              "\n",
              "    .colab-df-convert {\n",
              "      background-color: #E8F0FE;\n",
              "      border: none;\n",
              "      border-radius: 50%;\n",
              "      cursor: pointer;\n",
              "      display: none;\n",
              "      fill: #1967D2;\n",
              "      height: 32px;\n",
              "      padding: 0 0 0 0;\n",
              "      width: 32px;\n",
              "    }\n",
              "\n",
              "    .colab-df-convert:hover {\n",
              "      background-color: #E2EBFA;\n",
              "      box-shadow: 0px 1px 2px rgba(60, 64, 67, 0.3), 0px 1px 3px 1px rgba(60, 64, 67, 0.15);\n",
              "      fill: #174EA6;\n",
              "    }\n",
              "\n",
              "    [theme=dark] .colab-df-convert {\n",
              "      background-color: #3B4455;\n",
              "      fill: #D2E3FC;\n",
              "    }\n",
              "\n",
              "    [theme=dark] .colab-df-convert:hover {\n",
              "      background-color: #434B5C;\n",
              "      box-shadow: 0px 1px 3px 1px rgba(0, 0, 0, 0.15);\n",
              "      filter: drop-shadow(0px 1px 2px rgba(0, 0, 0, 0.3));\n",
              "      fill: #FFFFFF;\n",
              "    }\n",
              "  </style>\n",
              "\n",
              "      <script>\n",
              "        const buttonEl =\n",
              "          document.querySelector('#df-b2c27242-d2e6-4d19-9dcd-2a1bf10eb24b button.colab-df-convert');\n",
              "        buttonEl.style.display =\n",
              "          google.colab.kernel.accessAllowed ? 'block' : 'none';\n",
              "\n",
              "        async function convertToInteractive(key) {\n",
              "          const element = document.querySelector('#df-b2c27242-d2e6-4d19-9dcd-2a1bf10eb24b');\n",
              "          const dataTable =\n",
              "            await google.colab.kernel.invokeFunction('convertToInteractive',\n",
              "                                                     [key], {});\n",
              "          if (!dataTable) return;\n",
              "\n",
              "          const docLinkHtml = 'Like what you see? Visit the ' +\n",
              "            '<a target=\"_blank\" href=https://colab.research.google.com/notebooks/data_table.ipynb>data table notebook</a>'\n",
              "            + ' to learn more about interactive tables.';\n",
              "          element.innerHTML = '';\n",
              "          dataTable['output_type'] = 'display_data';\n",
              "          await google.colab.output.renderOutput(dataTable, element);\n",
              "          const docLink = document.createElement('div');\n",
              "          docLink.innerHTML = docLinkHtml;\n",
              "          element.appendChild(docLink);\n",
              "        }\n",
              "      </script>\n",
              "    </div>\n",
              "  </div>\n",
              "  "
            ]
          },
          "metadata": {},
          "execution_count": 12
        }
      ]
    },
    {
      "cell_type": "code",
      "source": [
        "bayo_clean = bayo_clean[bayo_clean['tweet'].notnull()]\n",
        "bayo_clean['tweet'] = bayo_clean['tweet'].str.lower()\n",
        "# bayo_clean['stemmed_text'] = bayo_clean.apply(stem_words,axis=1)"
      ],
      "metadata": {
        "id": "Rcx6koCJfA48"
      },
      "execution_count": 20,
      "outputs": []
    },
    {
      "cell_type": "code",
      "source": [
        "kazuya_clean = kazuya_clean[kazuya_clean['tweet'].notnull()]\n",
        "kazuya_clean['tweet'] = kazuya_clean['tweet'].str.lower()\n",
        "# kazuya_clean['stemmed_text'] = kazuya_clean.apply(stem_words,axis=1)"
      ],
      "metadata": {
        "id": "tPszfnRHhfY_"
      },
      "execution_count": 19,
      "outputs": []
    },
    {
      "cell_type": "code",
      "source": [
        "steve_clean = steve_clean[steve_clean['tweet'].notnull()]\n",
        "steve_clean['tweet'] = steve_clean['tweet'].str.lower()\n",
        "# steve_clean['stemmed_text'] = steve_clean.apply(stem_words,axis=1)"
      ],
      "metadata": {
        "id": "5gZ2tMtFhfbd"
      },
      "execution_count": 21,
      "outputs": []
    },
    {
      "cell_type": "code",
      "source": [
        "bayo_clean"
      ],
      "metadata": {
        "colab": {
          "base_uri": "https://localhost:8080/",
          "height": 423
        },
        "id": "AVB0OlHVgrpM",
        "outputId": "58daa0db-5975-4300-ada8-061bd11fb6de"
      },
      "execution_count": 22,
      "outputs": [
        {
          "output_type": "execute_result",
          "data": {
            "text/plain": [
              "                                                   tweet        username\n",
              "0      @powerfuck dmc 5, smash ultimate uhh bayonetta...    Handler_Chan\n",
              "1      its so weird seeing non smash twitter talking ...     AceOfGaykes\n",
              "2      if there’s a bayonetta 3, smash or metroid pri...   FinalGrantasy\n",
              "3      @actual_ytwaffle @geoffkeighley well, you can ...    MATT_HAZARD_\n",
              "4      if i end up missing the game awards today, i t...   Light_Suit213\n",
              "...                                                  ...             ...\n",
              "26253  my mains #smash #sexyteam #zerosuitsamus #bayo...    AnarchyReira\n",
              "26254  bayonetta is coming to smash bros. tomorrow! #...      PetesuhPan\n",
              "26255  @appleofclowns bayonetta should release for sm...          Avvvee\n",
              "26256  i totally forgot that bayonetta comes out tomo...  MrTacoBelmonto\n",
              "26257  super smash bros: corrin &amp; bayonetta relea...    Shuglegaming\n",
              "\n",
              "[26252 rows x 2 columns]"
            ],
            "text/html": [
              "\n",
              "  <div id=\"df-1b89a5ed-c2b4-4e11-a52b-484bb1ddeb4d\">\n",
              "    <div class=\"colab-df-container\">\n",
              "      <div>\n",
              "<style scoped>\n",
              "    .dataframe tbody tr th:only-of-type {\n",
              "        vertical-align: middle;\n",
              "    }\n",
              "\n",
              "    .dataframe tbody tr th {\n",
              "        vertical-align: top;\n",
              "    }\n",
              "\n",
              "    .dataframe thead th {\n",
              "        text-align: right;\n",
              "    }\n",
              "</style>\n",
              "<table border=\"1\" class=\"dataframe\">\n",
              "  <thead>\n",
              "    <tr style=\"text-align: right;\">\n",
              "      <th></th>\n",
              "      <th>tweet</th>\n",
              "      <th>username</th>\n",
              "    </tr>\n",
              "  </thead>\n",
              "  <tbody>\n",
              "    <tr>\n",
              "      <th>0</th>\n",
              "      <td>@powerfuck dmc 5, smash ultimate uhh bayonetta...</td>\n",
              "      <td>Handler_Chan</td>\n",
              "    </tr>\n",
              "    <tr>\n",
              "      <th>1</th>\n",
              "      <td>its so weird seeing non smash twitter talking ...</td>\n",
              "      <td>AceOfGaykes</td>\n",
              "    </tr>\n",
              "    <tr>\n",
              "      <th>2</th>\n",
              "      <td>if there’s a bayonetta 3, smash or metroid pri...</td>\n",
              "      <td>FinalGrantasy</td>\n",
              "    </tr>\n",
              "    <tr>\n",
              "      <th>3</th>\n",
              "      <td>@actual_ytwaffle @geoffkeighley well, you can ...</td>\n",
              "      <td>MATT_HAZARD_</td>\n",
              "    </tr>\n",
              "    <tr>\n",
              "      <th>4</th>\n",
              "      <td>if i end up missing the game awards today, i t...</td>\n",
              "      <td>Light_Suit213</td>\n",
              "    </tr>\n",
              "    <tr>\n",
              "      <th>...</th>\n",
              "      <td>...</td>\n",
              "      <td>...</td>\n",
              "    </tr>\n",
              "    <tr>\n",
              "      <th>26253</th>\n",
              "      <td>my mains #smash #sexyteam #zerosuitsamus #bayo...</td>\n",
              "      <td>AnarchyReira</td>\n",
              "    </tr>\n",
              "    <tr>\n",
              "      <th>26254</th>\n",
              "      <td>bayonetta is coming to smash bros. tomorrow! #...</td>\n",
              "      <td>PetesuhPan</td>\n",
              "    </tr>\n",
              "    <tr>\n",
              "      <th>26255</th>\n",
              "      <td>@appleofclowns bayonetta should release for sm...</td>\n",
              "      <td>Avvvee</td>\n",
              "    </tr>\n",
              "    <tr>\n",
              "      <th>26256</th>\n",
              "      <td>i totally forgot that bayonetta comes out tomo...</td>\n",
              "      <td>MrTacoBelmonto</td>\n",
              "    </tr>\n",
              "    <tr>\n",
              "      <th>26257</th>\n",
              "      <td>super smash bros: corrin &amp;amp; bayonetta relea...</td>\n",
              "      <td>Shuglegaming</td>\n",
              "    </tr>\n",
              "  </tbody>\n",
              "</table>\n",
              "<p>26252 rows × 2 columns</p>\n",
              "</div>\n",
              "      <button class=\"colab-df-convert\" onclick=\"convertToInteractive('df-1b89a5ed-c2b4-4e11-a52b-484bb1ddeb4d')\"\n",
              "              title=\"Convert this dataframe to an interactive table.\"\n",
              "              style=\"display:none;\">\n",
              "        \n",
              "  <svg xmlns=\"http://www.w3.org/2000/svg\" height=\"24px\"viewBox=\"0 0 24 24\"\n",
              "       width=\"24px\">\n",
              "    <path d=\"M0 0h24v24H0V0z\" fill=\"none\"/>\n",
              "    <path d=\"M18.56 5.44l.94 2.06.94-2.06 2.06-.94-2.06-.94-.94-2.06-.94 2.06-2.06.94zm-11 1L8.5 8.5l.94-2.06 2.06-.94-2.06-.94L8.5 2.5l-.94 2.06-2.06.94zm10 10l.94 2.06.94-2.06 2.06-.94-2.06-.94-.94-2.06-.94 2.06-2.06.94z\"/><path d=\"M17.41 7.96l-1.37-1.37c-.4-.4-.92-.59-1.43-.59-.52 0-1.04.2-1.43.59L10.3 9.45l-7.72 7.72c-.78.78-.78 2.05 0 2.83L4 21.41c.39.39.9.59 1.41.59.51 0 1.02-.2 1.41-.59l7.78-7.78 2.81-2.81c.8-.78.8-2.07 0-2.86zM5.41 20L4 18.59l7.72-7.72 1.47 1.35L5.41 20z\"/>\n",
              "  </svg>\n",
              "      </button>\n",
              "      \n",
              "  <style>\n",
              "    .colab-df-container {\n",
              "      display:flex;\n",
              "      flex-wrap:wrap;\n",
              "      gap: 12px;\n",
              "    }\n",
              "\n",
              "    .colab-df-convert {\n",
              "      background-color: #E8F0FE;\n",
              "      border: none;\n",
              "      border-radius: 50%;\n",
              "      cursor: pointer;\n",
              "      display: none;\n",
              "      fill: #1967D2;\n",
              "      height: 32px;\n",
              "      padding: 0 0 0 0;\n",
              "      width: 32px;\n",
              "    }\n",
              "\n",
              "    .colab-df-convert:hover {\n",
              "      background-color: #E2EBFA;\n",
              "      box-shadow: 0px 1px 2px rgba(60, 64, 67, 0.3), 0px 1px 3px 1px rgba(60, 64, 67, 0.15);\n",
              "      fill: #174EA6;\n",
              "    }\n",
              "\n",
              "    [theme=dark] .colab-df-convert {\n",
              "      background-color: #3B4455;\n",
              "      fill: #D2E3FC;\n",
              "    }\n",
              "\n",
              "    [theme=dark] .colab-df-convert:hover {\n",
              "      background-color: #434B5C;\n",
              "      box-shadow: 0px 1px 3px 1px rgba(0, 0, 0, 0.15);\n",
              "      filter: drop-shadow(0px 1px 2px rgba(0, 0, 0, 0.3));\n",
              "      fill: #FFFFFF;\n",
              "    }\n",
              "  </style>\n",
              "\n",
              "      <script>\n",
              "        const buttonEl =\n",
              "          document.querySelector('#df-1b89a5ed-c2b4-4e11-a52b-484bb1ddeb4d button.colab-df-convert');\n",
              "        buttonEl.style.display =\n",
              "          google.colab.kernel.accessAllowed ? 'block' : 'none';\n",
              "\n",
              "        async function convertToInteractive(key) {\n",
              "          const element = document.querySelector('#df-1b89a5ed-c2b4-4e11-a52b-484bb1ddeb4d');\n",
              "          const dataTable =\n",
              "            await google.colab.kernel.invokeFunction('convertToInteractive',\n",
              "                                                     [key], {});\n",
              "          if (!dataTable) return;\n",
              "\n",
              "          const docLinkHtml = 'Like what you see? Visit the ' +\n",
              "            '<a target=\"_blank\" href=https://colab.research.google.com/notebooks/data_table.ipynb>data table notebook</a>'\n",
              "            + ' to learn more about interactive tables.';\n",
              "          element.innerHTML = '';\n",
              "          dataTable['output_type'] = 'display_data';\n",
              "          await google.colab.output.renderOutput(dataTable, element);\n",
              "          const docLink = document.createElement('div');\n",
              "          docLink.innerHTML = docLinkHtml;\n",
              "          element.appendChild(docLink);\n",
              "        }\n",
              "      </script>\n",
              "    </div>\n",
              "  </div>\n",
              "  "
            ]
          },
          "metadata": {},
          "execution_count": 22
        }
      ]
    },
    {
      "cell_type": "code",
      "source": [
        "# bayo_clean_sample = bayo_clean.sample(n=5000)"
      ],
      "metadata": {
        "id": "92ICGTnMqKeq"
      },
      "execution_count": 23,
      "outputs": []
    },
    {
      "cell_type": "code",
      "source": [
        "# bayo_clean_sample.head()"
      ],
      "metadata": {
        "id": "8Jpr1Li9qL6M"
      },
      "execution_count": 24,
      "outputs": []
    },
    {
      "cell_type": "code",
      "source": [
        "\n",
        "# bayo_clean_sample = bayo_clean.sample(n=10000)\n",
        "# bayo_tweets = bayo_clean_sample.tweet.tolist()"
      ],
      "metadata": {
        "id": "XBkNOBtoRW3T"
      },
      "execution_count": 25,
      "outputs": []
    },
    {
      "cell_type": "code",
      "source": [
        "\n",
        "# kazuya_clean_sample = kazuya_clean.sample(n=10000)\n",
        "# kazuya_tweets = kazuya_clean_sample.tweet.tolist()\n",
        "\n",
        "# steve_clean_sample = steve_clean.sample(n=5000)\n",
        "# steve_tweets = steve_clean_sample.tweet.tolist()"
      ],
      "metadata": {
        "id": "xq1S8aB6SI4V"
      },
      "execution_count": 26,
      "outputs": []
    },
    {
      "cell_type": "code",
      "source": [
        "bayo_clean['tweet_without_stopwords'] = bayo_clean['tweet'].apply(lambda x: ' '.join([word for word in x.split() if word not in (stop_words)]))\n",
        "kazuya_clean['tweet_without_stopwords'] = kazuya_clean['tweet'].apply(lambda x: ' '.join([word for word in x.split() if word not in (stop_words)]))\n",
        "steve_clean['tweet_without_stopwords'] = steve_clean['tweet'].apply(lambda x: ' '.join([word for word in x.split() if word not in (stop_words)]))"
      ],
      "metadata": {
        "id": "6r3I9etL47Rf"
      },
      "execution_count": 32,
      "outputs": []
    },
    {
      "cell_type": "code",
      "source": [
        "bayo_clean.tweet_without_stopwords.str.split(expand=True).stack().value_counts().head(100)"
      ],
      "metadata": {
        "colab": {
          "base_uri": "https://localhost:8080/"
        },
        "id": "xNMApfUn47T-",
        "outputId": "a797994d-7076-42bc-8999-e21365f04871"
      },
      "execution_count": 28,
      "outputs": [
        {
          "output_type": "execute_result",
          "data": {
            "text/plain": [
              "smash        24542\n",
              "bayonetta    20068\n",
              "-             6583\n",
              "@youtube      5437\n",
              "super         4983\n",
              "             ...  \n",
              "gameplay       416\n",
              "3,             411\n",
              "evo            401\n",
              "amiibo         384\n",
              "pokemon        379\n",
              "Length: 100, dtype: int64"
            ]
          },
          "metadata": {},
          "execution_count": 28
        }
      ]
    },
    {
      "cell_type": "code",
      "source": [
        "from google.colab import files"
      ],
      "metadata": {
        "id": "vzktebKS47Xr"
      },
      "execution_count": 30,
      "outputs": []
    },
    {
      "cell_type": "code",
      "source": [
        "bayo_counts = bayo_clean.tweet_without_stopwords.str.split(expand=True).stack().value_counts().rename_axis('word').reset_index(name='count')"
      ],
      "metadata": {
        "id": "Xv1AFNu047Yn"
      },
      "execution_count": 31,
      "outputs": []
    },
    {
      "cell_type": "code",
      "source": [
        "kazuya_counts = kazuya_clean.tweet_without_stopwords.str.split(expand=True).stack().value_counts().rename_axis('word').reset_index(name='count')"
      ],
      "metadata": {
        "id": "_600eCVW47as"
      },
      "execution_count": 33,
      "outputs": []
    },
    {
      "cell_type": "code",
      "source": [
        "steve_counts = steve_clean.tweet_without_stopwords.str.split(expand=True).stack().value_counts().rename_axis('word').reset_index(name='count')"
      ],
      "metadata": {
        "id": "WusgdU_G47cy"
      },
      "execution_count": 34,
      "outputs": []
    },
    {
      "cell_type": "code",
      "source": [
        "bayo_counts.to_csv('bayo_counts.csv')\n",
        "kazuya_counts.to_csv('kazuya_counts.csv')\n",
        "steve_counts.to_csv('steve_counts.csv')"
      ],
      "metadata": {
        "id": "BhdrXCyKZzAc"
      },
      "execution_count": 35,
      "outputs": []
    },
    {
      "cell_type": "code",
      "source": [
        "files.download('bayo_counts.csv')"
      ],
      "metadata": {
        "colab": {
          "base_uri": "https://localhost:8080/",
          "height": 17
        },
        "id": "WEZWlNhSZzC8",
        "outputId": "b5dea9c0-54b8-48f0-fe54-0df55cdd1330"
      },
      "execution_count": 36,
      "outputs": [
        {
          "output_type": "display_data",
          "data": {
            "text/plain": [
              "<IPython.core.display.Javascript object>"
            ],
            "application/javascript": [
              "\n",
              "    async function download(id, filename, size) {\n",
              "      if (!google.colab.kernel.accessAllowed) {\n",
              "        return;\n",
              "      }\n",
              "      const div = document.createElement('div');\n",
              "      const label = document.createElement('label');\n",
              "      label.textContent = `Downloading \"${filename}\": `;\n",
              "      div.appendChild(label);\n",
              "      const progress = document.createElement('progress');\n",
              "      progress.max = size;\n",
              "      div.appendChild(progress);\n",
              "      document.body.appendChild(div);\n",
              "\n",
              "      const buffers = [];\n",
              "      let downloaded = 0;\n",
              "\n",
              "      const channel = await google.colab.kernel.comms.open(id);\n",
              "      // Send a message to notify the kernel that we're ready.\n",
              "      channel.send({})\n",
              "\n",
              "      for await (const message of channel.messages) {\n",
              "        // Send a message to notify the kernel that we're ready.\n",
              "        channel.send({})\n",
              "        if (message.buffers) {\n",
              "          for (const buffer of message.buffers) {\n",
              "            buffers.push(buffer);\n",
              "            downloaded += buffer.byteLength;\n",
              "            progress.value = downloaded;\n",
              "          }\n",
              "        }\n",
              "      }\n",
              "      const blob = new Blob(buffers, {type: 'application/binary'});\n",
              "      const a = document.createElement('a');\n",
              "      a.href = window.URL.createObjectURL(blob);\n",
              "      a.download = filename;\n",
              "      div.appendChild(a);\n",
              "      a.click();\n",
              "      div.remove();\n",
              "    }\n",
              "  "
            ]
          },
          "metadata": {}
        },
        {
          "output_type": "display_data",
          "data": {
            "text/plain": [
              "<IPython.core.display.Javascript object>"
            ],
            "application/javascript": [
              "download(\"download_991acd2a-582c-4861-876a-8109abe21290\", \"bayo_counts.csv\", 1027660)"
            ]
          },
          "metadata": {}
        }
      ]
    },
    {
      "cell_type": "code",
      "source": [
        "files.download('kazuya_counts.csv')"
      ],
      "metadata": {
        "colab": {
          "base_uri": "https://localhost:8080/",
          "height": 17
        },
        "id": "v8noBlPAaNEm",
        "outputId": "23330606-4ed7-4d87-f374-35bf32dfc9e5"
      },
      "execution_count": 37,
      "outputs": [
        {
          "output_type": "display_data",
          "data": {
            "text/plain": [
              "<IPython.core.display.Javascript object>"
            ],
            "application/javascript": [
              "\n",
              "    async function download(id, filename, size) {\n",
              "      if (!google.colab.kernel.accessAllowed) {\n",
              "        return;\n",
              "      }\n",
              "      const div = document.createElement('div');\n",
              "      const label = document.createElement('label');\n",
              "      label.textContent = `Downloading \"${filename}\": `;\n",
              "      div.appendChild(label);\n",
              "      const progress = document.createElement('progress');\n",
              "      progress.max = size;\n",
              "      div.appendChild(progress);\n",
              "      document.body.appendChild(div);\n",
              "\n",
              "      const buffers = [];\n",
              "      let downloaded = 0;\n",
              "\n",
              "      const channel = await google.colab.kernel.comms.open(id);\n",
              "      // Send a message to notify the kernel that we're ready.\n",
              "      channel.send({})\n",
              "\n",
              "      for await (const message of channel.messages) {\n",
              "        // Send a message to notify the kernel that we're ready.\n",
              "        channel.send({})\n",
              "        if (message.buffers) {\n",
              "          for (const buffer of message.buffers) {\n",
              "            buffers.push(buffer);\n",
              "            downloaded += buffer.byteLength;\n",
              "            progress.value = downloaded;\n",
              "          }\n",
              "        }\n",
              "      }\n",
              "      const blob = new Blob(buffers, {type: 'application/binary'});\n",
              "      const a = document.createElement('a');\n",
              "      a.href = window.URL.createObjectURL(blob);\n",
              "      a.download = filename;\n",
              "      div.appendChild(a);\n",
              "      a.click();\n",
              "      div.remove();\n",
              "    }\n",
              "  "
            ]
          },
          "metadata": {}
        },
        {
          "output_type": "display_data",
          "data": {
            "text/plain": [
              "<IPython.core.display.Javascript object>"
            ],
            "application/javascript": [
              "download(\"download_0fc3e56a-0ed5-49fe-92c4-17e5c81f3cba\", \"kazuya_counts.csv\", 372178)"
            ]
          },
          "metadata": {}
        }
      ]
    },
    {
      "cell_type": "code",
      "source": [
        "files.download('steve_counts.csv')"
      ],
      "metadata": {
        "colab": {
          "base_uri": "https://localhost:8080/",
          "height": 17
        },
        "id": "-1ocFfisaNGv",
        "outputId": "fde379eb-8055-4ae0-dc62-0730c3222ec8"
      },
      "execution_count": 38,
      "outputs": [
        {
          "output_type": "display_data",
          "data": {
            "text/plain": [
              "<IPython.core.display.Javascript object>"
            ],
            "application/javascript": [
              "\n",
              "    async function download(id, filename, size) {\n",
              "      if (!google.colab.kernel.accessAllowed) {\n",
              "        return;\n",
              "      }\n",
              "      const div = document.createElement('div');\n",
              "      const label = document.createElement('label');\n",
              "      label.textContent = `Downloading \"${filename}\": `;\n",
              "      div.appendChild(label);\n",
              "      const progress = document.createElement('progress');\n",
              "      progress.max = size;\n",
              "      div.appendChild(progress);\n",
              "      document.body.appendChild(div);\n",
              "\n",
              "      const buffers = [];\n",
              "      let downloaded = 0;\n",
              "\n",
              "      const channel = await google.colab.kernel.comms.open(id);\n",
              "      // Send a message to notify the kernel that we're ready.\n",
              "      channel.send({})\n",
              "\n",
              "      for await (const message of channel.messages) {\n",
              "        // Send a message to notify the kernel that we're ready.\n",
              "        channel.send({})\n",
              "        if (message.buffers) {\n",
              "          for (const buffer of message.buffers) {\n",
              "            buffers.push(buffer);\n",
              "            downloaded += buffer.byteLength;\n",
              "            progress.value = downloaded;\n",
              "          }\n",
              "        }\n",
              "      }\n",
              "      const blob = new Blob(buffers, {type: 'application/binary'});\n",
              "      const a = document.createElement('a');\n",
              "      a.href = window.URL.createObjectURL(blob);\n",
              "      a.download = filename;\n",
              "      div.appendChild(a);\n",
              "      a.click();\n",
              "      div.remove();\n",
              "    }\n",
              "  "
            ]
          },
          "metadata": {}
        },
        {
          "output_type": "display_data",
          "data": {
            "text/plain": [
              "<IPython.core.display.Javascript object>"
            ],
            "application/javascript": [
              "download(\"download_54a222df-7fad-4fb9-8e0f-6cb453fc32fa\", \"steve_counts.csv\", 2234405)"
            ]
          },
          "metadata": {}
        }
      ]
    },
    {
      "cell_type": "code",
      "source": [
        "# vectorizer = TfidfVectorizer(max_df=0.5, min_df=1,stop_words=stop_words)"
      ],
      "metadata": {
        "id": "lmII-xNLSTN-"
      },
      "execution_count": 21,
      "outputs": []
    },
    {
      "cell_type": "code",
      "source": [
        "# transformed_bayo_tweets = vectorizer.fit_transform(bayo_tweets)\n",
        "\n",
        "# transformed_bayo_tweets_as_array = transformed_bayo_tweets.toarray()\n",
        "\n",
        "# tfidf_results_b = []\n",
        "# for counter, doc in enumerate(transformed_bayo_tweets_as_array):\n",
        "#     tf_idf_tuples = list(zip(vectorizer.get_feature_names(), doc))\n",
        "#     one_doc_as_df = pd.DataFrame.from_records(tf_idf_tuples, columns=['term', 'score']).sort_values(by='score', ascending=False).reset_index(drop=True)\n",
        "#     tfidf_results_b.append(one_doc_as_df)"
      ],
      "metadata": {
        "id": "ZSrI9XMrSWHT"
      },
      "execution_count": null,
      "outputs": []
    },
    {
      "cell_type": "code",
      "source": [
        "# tfidf_df_b = pd.concat(tfidf_results_b)\n",
        "# tfidf_df_b = tfidf_df_b.sort_values(by=['score'], ascending=False)\n",
        "# tfidf_df_b\n",
        "# tfidf_df_b.to_csv('tfidf_b.csv')\n",
        "# files.download('tfidf_b.csv')"
      ],
      "metadata": {
        "id": "w8EucNEgt8Ok"
      },
      "execution_count": null,
      "outputs": []
    },
    {
      "cell_type": "code",
      "source": [
        "# transformed_kazuya_tweets = vectorizer.fit_transform(kazuya_tweets)\n",
        "\n",
        "# transformed_kazuya_tweets_as_array = transformed_kazuya_tweets.toarray()\n",
        "\n",
        "# tfidf_results_k = []\n",
        "# for counter, doc in enumerate(transformed_kazuya_tweets_as_array):\n",
        "#     tf_idf_tuples = list(zip(vectorizer.get_feature_names(), doc))\n",
        "#     one_doc_as_df = pd.DataFrame.from_records(tf_idf_tuples, columns=['term', 'score']).sort_values(by='score', ascending=False).reset_index(drop=True)\n",
        "#     tfidf_results_k.append(one_doc_as_df)"
      ],
      "metadata": {
        "id": "BwLcDXXmvB3f"
      },
      "execution_count": null,
      "outputs": []
    },
    {
      "cell_type": "code",
      "source": [
        "# tfidf_df_k = pd.concat(tfidf_results_k)\n",
        "# tfidf_df_k = tfidf_df_k.sort_values(by=['score'], ascending=False)\n",
        "# tfidf_df_k\n",
        "# tfidf_df_k.to_csv('tfidf_k.csv')\n",
        "# files.download('tfidf_k.csv')"
      ],
      "metadata": {
        "id": "6dTqF9TzvB-7"
      },
      "execution_count": null,
      "outputs": []
    },
    {
      "cell_type": "code",
      "source": [
        "# tfidf_df_k.head(50)"
      ],
      "metadata": {
        "id": "Is_G2O6OvCEq"
      },
      "execution_count": null,
      "outputs": []
    },
    {
      "cell_type": "code",
      "source": [
        "# transformed_steve_tweets = vectorizer.fit_transform(steve_tweets)\n",
        "\n",
        "# transformed_steve_tweets_as_array = transformed_steve_tweets.toarray()\n",
        "\n",
        "# tfidf_results_s = []\n",
        "# for counter, doc in enumerate(transformed_steve_tweets_as_array):\n",
        "#     tf_idf_tuples = list(zip(vectorizer.get_feature_names(), doc))\n",
        "#     one_doc_as_df = pd.DataFrame.from_records(tf_idf_tuples, columns=['term', 'score']).sort_values(by='score', ascending=False).reset_index(drop=True)\n",
        "#     tfidf_results_s.append(one_doc_as_df)"
      ],
      "metadata": {
        "id": "mQ3AVdYKvCJE"
      },
      "execution_count": null,
      "outputs": []
    },
    {
      "cell_type": "code",
      "source": [
        "# tfidf_df_s = pd.concat(tfidf_results_s)\n",
        "# tfidf_df_s = tfidf_df_s.sort_values(by=['score'], ascending=False)\n",
        "# tfidf_df_s"
      ],
      "metadata": {
        "id": "nGRODn9IxMDB"
      },
      "execution_count": null,
      "outputs": []
    },
    {
      "cell_type": "code",
      "source": [
        ""
      ],
      "metadata": {
        "id": "gpA-H4-4xcln"
      },
      "execution_count": null,
      "outputs": []
    }
  ]
}